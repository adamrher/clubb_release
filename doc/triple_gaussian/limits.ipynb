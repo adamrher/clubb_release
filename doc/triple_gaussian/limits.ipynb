{
 "cells": [
  {
   "cell_type": "code",
   "id": "initial_id",
   "metadata": {
    "collapsed": true,
    "ExecuteTime": {
     "end_time": "2024-04-24T22:15:11.387173Z",
     "start_time": "2024-04-24T22:15:11.383856Z"
    }
   },
   "source": [
    "import sympy as sp\n",
    "from IPython.display import display\n",
    "from sympy import abc, init_printing\n",
    "\n",
    "import checked_functions as c_f\n",
    "import symbols as sym\n",
    "\n",
    "init_printing()"
   ],
   "outputs": [],
   "execution_count": 5
  },
  {
   "metadata": {
    "ExecuteTime": {
     "end_time": "2024-04-24T22:15:12.248446Z",
     "start_time": "2024-04-24T22:15:11.389180Z"
    }
   },
   "cell_type": "code",
   "source": [
    "limit = sp.limit(e=c_f.w_prime_4_bar().subs({sym.sigma_tilde_w: c_f.sigma_tilde_w(), sym.lambda_w: c_f.lambda_w()}),\n",
    "                 z=sp.abc.delta, z0=1)\n",
    "display(limit)"
   ],
   "id": "d4e2a60bb078a5b6",
   "outputs": [
    {
     "data": {
      "text/plain": [
       "      ⎛                  2                                 2              4⎞\n",
       "∞⋅sign⎝- \\overline{w'__2}  + 2⋅\\overline{w'__2}⋅\\sigma_{w3}  - \\sigma_{w3} ⎠"
      ],
      "image/png": "[encoded data removed]",
      "text/latex": "$\\displaystyle \\infty \\operatorname{sign}{\\left(- \\left(\\overline{w'^2}\\right)^{2} + 2 \\overline{w'^2} \\sigma_{w3}^{2} - \\sigma_{w3}^{4} \\right)}$"
     },
     "metadata": {},
     "output_type": "display_data"
    }
   ],
   "execution_count": 6
  }
 ],
 "metadata": {
  "kernelspec": {
   "display_name": "Python 3",
   "language": "python",
   "name": "python3"
  },
  "language_info": {
   "codemirror_mode": {
    "name": "ipython",
    "version": 2
   },
   "file_extension": ".py",
   "mimetype": "text/x-python",
   "name": "python",
   "nbconvert_exporter": "python",
   "pygments_lexer": "ipython2",
   "version": "2.7.6"
  }
 },
 "nbformat": 4,
 "nbformat_minor": 5
}
