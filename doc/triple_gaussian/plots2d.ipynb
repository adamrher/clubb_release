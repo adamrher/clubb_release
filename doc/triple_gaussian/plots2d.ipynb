{
 "cells": [
  {
   "cell_type": "code",
   "execution_count": 32,
   "id": "initial_id",
   "metadata": {
    "collapsed": true,
    "ExecuteTime": {
     "end_time": "2024-04-09T21:19:52.954929Z",
     "start_time": "2024-04-09T21:19:52.907662Z"
    }
   },
   "source": [
    "import matplotlib.pyplot as plt\n",
    "import numpy as np\n",
    "import sympy as sp\n",
    "from IPython.display import display\n",
    "from matplotlib.backends.backend_pdf import PdfPages\n",
    "from sympy import abc\n",
    "\n",
    "import checked_functions as c_f\n",
    "import symbols as sym"
   ],
   "outputs": []
  },
  {
   "cell_type": "markdown",
   "source": [
    "This document aims to plot certain double and triple Gaussian distributions."
   ],
   "metadata": {
    "collapsed": false
   },
   "id": "ab87c7541beffbff"
  },
  {
   "cell_type": "code",
   "source": [
    "display(sp.Eq(sym.G_w_theta, c_f.G_w_theta))"
   ],
   "metadata": {
    "collapsed": false,
    "ExecuteTime": {
     "end_time": "2024-04-09T21:19:53.052403Z",
     "start_time": "2024-04-09T21:19:52.957936Z"
    }
   },
   "id": "aa6789804a6eda67",
   "execution_count": 33,
   "outputs": []
  },
  {
   "cell_type": "code",
   "source": [
    "dGn = sp.abc.alpha * c_f.G_1_w_theta_density + (1 - sp.abc.alpha) * c_f.G_2_w_theta_density\n",
    "display(sp.Eq(sp.Symbol('G_{dGn}(w, \\\\theta)'), dGn))"
   ],
   "metadata": {
    "collapsed": false,
    "ExecuteTime": {
     "end_time": "2024-04-09T21:19:53.066898Z",
     "start_time": "2024-04-09T21:19:53.053411Z"
    }
   },
   "id": "6da107c01683214b",
   "execution_count": 34,
   "outputs": []
  },
  {
   "cell_type": "code",
   "source": [
    "start = -10 \n",
    "stop = 10\n",
    "num = 100\n",
    "w = np.linspace(start=start, stop=stop, num=num)\n",
    "theta = np.linspace(start=start, stop=stop, num=num)\n",
    "W, Theta = np.meshgrid(w, theta)"
   ],
   "metadata": {
    "collapsed": false,
    "ExecuteTime": {
     "end_time": "2024-04-09T21:19:53.080424Z",
     "start_time": "2024-04-09T21:19:53.069140Z"
    }
   },
   "id": "dd38a5028fa9e32f",
   "execution_count": 35,
   "outputs": []
  },
  {
   "cell_type": "code",
   "source": [
    "def plot_dGn_and_tGn_sbs(alpha, rho_w_theta_l, pdf, title=True,\n",
    "                         delta_title = True,\n",
    "                         sidebyside=True, delta=0,\n",
    "                         sigma_w_3=1.1, sigma_theta_l_3=1,\n",
    "                         sigma_w=2, w_1=5, w_2=-5,\n",
    "                         sigma_theta_l_1=2, sigma_theta_l_2=2,\n",
    "                         theta_l_1=5, theta_l_2=-5):\n",
    "    if sidebyside:\n",
    "        fig, axs = plt.subplots(nrows=1, ncols=2)\n",
    "        left_ax, right_ax = axs\n",
    "    else:\n",
    "        fig, axs = plt.subplots(nrows=1, ncols=1)\n",
    "        left_ax = axs\n",
    "\n",
    "    if title:\n",
    "        fig.suptitle(\n",
    "            r'$\\alpha:$' + str(alpha) +\n",
    "            r', $\\rho_{w \\theta_l}$:' + str(rho_w_theta_l) +\n",
    "            r', $\\sigma_{\\lambda_w}:$' + str(sigma_w_3) +\n",
    "            r', $\\sigma_{\\lambda \\theta_l}$:' + str(sigma_theta_l_3))\n",
    "\n",
    "    G_w_theta = sp.lambdify([\n",
    "        sp.abc.w,\n",
    "        sp.abc.theta,\n",
    "        sp.abc.delta\n",
    "    ], c_f.G_w_theta.subs({\n",
    "        sym.w_bar: c_f.w_bar(),\n",
    "        sym.theta_l_bar: c_f.theta_l_bar(),\n",
    "        sym.sigma_w_3: sigma_w_3,\n",
    "        sp.abc.alpha: alpha,\n",
    "        sym.sigma_w: sigma_w,\n",
    "        sym.w_1: w_1,\n",
    "        sym.w_2: w_2,\n",
    "        sym.sigma_theta_l_1: sigma_theta_l_1,\n",
    "        sym.sigma_theta_l_2: sigma_theta_l_2,\n",
    "        sym.theta_l_1: theta_l_1,\n",
    "        sym.theta_l_2: theta_l_2,\n",
    "        sym.sigma_theta_l_3: sigma_theta_l_3,\n",
    "        sym.rho_w_theta_l: rho_w_theta_l\n",
    "    }))\n",
    "    \n",
    "    CS = left_ax.contour(W, Theta, G_w_theta(W, Theta, delta))\n",
    "    left_ax.set_xlabel(r'$w$')\n",
    "    left_ax.set_ylabel(r'$\\theta_l$')\n",
    "    left_ax.clabel(CS)\n",
    "    if delta_title:\n",
    "        left_ax.set_title(rf'$\\delta = ${delta}')\n",
    "\n",
    "    if sidebyside:\n",
    "        right_ax.contour(G_w_theta(W, Theta, .5))\n",
    "        right_ax.set_title(r'$\\delta = .5$')\n",
    "\n",
    "    pdf.savefig(fig)\n",
    "    plt.close()\n",
    "    pdf.close()\n",
    "    #plt.savefig(f'plots/plot_{name}.pdf', format='pdf', bbox_inches=\"tight\")\n",
    "    #plt.close()\n",
    "    #plt.show()"
   ],
   "metadata": {
    "collapsed": false,
    "ExecuteTime": {
     "end_time": "2024-04-09T21:19:53.101673Z",
     "start_time": "2024-04-09T21:19:53.081429Z"
    }
   },
   "id": "1dc1840ff12ead37",
   "execution_count": 36,
   "outputs": []
  },
  {
   "cell_type": "code",
   "source": [
    "# pdf = PdfPages('plots/plots.pdf')\n",
    "# i = 0\n",
    "# for alpha in [.5]:\n",
    "#     for rho_w_theta_l in [-.9, -.5, 0, .5, .9]:\n",
    "#         for sigma_lambda_w in [.5, 2, 5]:\n",
    "#             for sigma_lambda_theta_l in [.5, 2, 5]:\n",
    "#                 plot_dGn_and_tGn_sbs(alpha=alpha, rho_w_theta_l=rho_w_theta_l, pdf=pdf,\n",
    "#                                      sigma_lambda_w=sigma_lambda_w,\n",
    "#                                      sigma_lambda_theta_l=sigma_lambda_theta_l)\n",
    "#                 i += 1\n",
    "# pdf.close()"
   ],
   "metadata": {
    "collapsed": false,
    "ExecuteTime": {
     "end_time": "2024-04-09T21:19:53.107670Z",
     "start_time": "2024-04-09T21:19:53.102678Z"
    }
   },
   "id": "ad82037e97583a0",
   "execution_count": 37,
   "outputs": []
  },
  {
   "cell_type": "code",
   "source": [
    "# first plot\n",
    "pdf = PdfPages('plots/plot1.pdf')\n",
    "plot_dGn_and_tGn_sbs(alpha=.5, rho_w_theta_l=.5, pdf=pdf,\n",
    "                     title=False, delta_title=False,\n",
    "                     sidebyside=False, delta=0,\n",
    "                     sigma_w_3=.5,\n",
    "                     sigma_theta_l_3=.5)"
   ],
   "metadata": {
    "collapsed": false,
    "ExecuteTime": {
     "end_time": "2024-04-09T21:19:53.969179Z",
     "start_time": "2024-04-09T21:19:53.108771Z"
    }
   },
   "id": "841249df373154a8",
   "execution_count": 38,
   "outputs": []
  },
  {
   "cell_type": "code",
   "source": [
    "# second plot\n",
    "pdf = PdfPages('plots/plot2.pdf')\n",
    "plot_dGn_and_tGn_sbs(alpha=.5, rho_w_theta_l=.5, pdf=pdf,\n",
    "                     title=False, delta_title=False,\n",
    "                     sidebyside=False, delta=0,\n",
    "                     sigma_w_3=.5,\n",
    "                     sigma_theta_l_3=.5, sigma_w=5, sigma_theta_l_1=5, sigma_theta_l_2=5)"
   ],
   "metadata": {
    "collapsed": false,
    "ExecuteTime": {
     "end_time": "2024-04-09T21:19:54.077140Z",
     "start_time": "2024-04-09T21:19:53.970352Z"
    }
   },
   "id": "1102cc2597f5eb6b",
   "execution_count": 39,
   "outputs": []
  },
  {
   "cell_type": "code",
   "source": [
    "# third plot 1\n",
    "pdf = PdfPages('plots/plot3_1.pdf')\n",
    "plot_dGn_and_tGn_sbs(alpha=.5, rho_w_theta_l=.5, pdf=pdf, title=False,\n",
    "                     sidebyside=False, delta=.1,\n",
    "                     sigma_w_3=2,\n",
    "                     sigma_theta_l_3=2)"
   ],
   "metadata": {
    "collapsed": false,
    "ExecuteTime": {
     "end_time": "2024-04-09T21:19:54.181387Z",
     "start_time": "2024-04-09T21:19:54.079151Z"
    }
   },
   "id": "d943e239c10024e",
   "execution_count": 40,
   "outputs": []
  },
  {
   "cell_type": "code",
   "source": [
    "# third plot 2\n",
    "pdf = PdfPages('plots/plot3_2.pdf')\n",
    "plot_dGn_and_tGn_sbs(alpha=.5, rho_w_theta_l=.5, pdf=pdf, title=False,\n",
    "                     sidebyside=False, delta=.2,\n",
    "                     sigma_w_3=2,\n",
    "                     sigma_theta_l_3=2)"
   ],
   "metadata": {
    "collapsed": false,
    "ExecuteTime": {
     "end_time": "2024-04-09T21:19:54.289321Z",
     "start_time": "2024-04-09T21:19:54.182392Z"
    }
   },
   "id": "6b9dbdc513830722",
   "execution_count": 41,
   "outputs": []
  },
  {
   "cell_type": "code",
   "source": [
    "# third plot 3\n",
    "pdf = PdfPages('plots/plot3_3.pdf')\n",
    "plot_dGn_and_tGn_sbs(alpha=.5, rho_w_theta_l=.5, pdf=pdf, title=False,\n",
    "                     sidebyside=False, delta=.3,\n",
    "                     sigma_w_3=2,\n",
    "                     sigma_theta_l_3=2)"
   ],
   "metadata": {
    "collapsed": false,
    "ExecuteTime": {
     "end_time": "2024-04-09T21:19:54.409329Z",
     "start_time": "2024-04-09T21:19:54.290329Z"
    }
   },
   "id": "a3ef795e3920761a",
   "execution_count": 42,
   "outputs": []
  },
  {
   "cell_type": "code",
   "source": [
    "# third plot 4\n",
    "pdf = PdfPages('plots/plot3_4.pdf')\n",
    "plot_dGn_and_tGn_sbs(alpha=.5, rho_w_theta_l=.5, pdf=pdf, title=False,\n",
    "                     sidebyside=False, delta=.4,\n",
    "                     sigma_w_3=2,\n",
    "                     sigma_theta_l_3=2)"
   ],
   "metadata": {
    "collapsed": false,
    "ExecuteTime": {
     "end_time": "2024-04-09T21:19:54.504737Z",
     "start_time": "2024-04-09T21:19:54.410351Z"
    }
   },
   "id": "5a39e470b9500ca5",
   "execution_count": 43,
   "outputs": []
  },
  {
   "cell_type": "code",
   "source": [
    "# fourth plot\n",
    "pdf = PdfPages('plots/plot4.pdf')\n",
    "plot_dGn_and_tGn_sbs(alpha=.5, rho_w_theta_l=-.5, pdf=pdf, title=False, delta_title=False,\n",
    "                     sidebyside=False, delta=.5,\n",
    "                     sigma_w_3=2,\n",
    "                     sigma_theta_l_3=2)"
   ],
   "metadata": {
    "collapsed": false,
    "ExecuteTime": {
     "end_time": "2024-04-09T21:19:54.600442Z",
     "start_time": "2024-04-09T21:19:54.505243Z"
    }
   },
   "id": "f25dfab77275f2d9",
   "execution_count": 44,
   "outputs": []
  }
 ],
 "metadata": {
  "kernelspec": {
   "display_name": "Python 3",
   "language": "python",
   "name": "python3"
  },
  "language_info": {
   "codemirror_mode": {
    "name": "ipython",
    "version": 2
   },
   "file_extension": ".py",
   "mimetype": "text/x-python",
   "name": "python",
   "nbconvert_exporter": "python",
   "pygments_lexer": "ipython2",
   "version": "2.7.6"
  }
 },
 "nbformat": 4,
 "nbformat_minor": 5
}
