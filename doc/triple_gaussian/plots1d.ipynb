{
 "cells": [
  {
   "cell_type": "code",
   "execution_count": 91,
   "id": "initial_id",
   "metadata": {
    "collapsed": true,
    "ExecuteTime": {
     "end_time": "2024-04-08T02:21:47.618538Z",
     "start_time": "2024-04-08T02:21:47.614692Z"
    }
   },
   "source": [
    "import matplotlib.pyplot as plt\n",
    "import numpy as np\n",
    "import sympy as sp\n",
    "from IPython.display import display\n",
    "from sympy import abc\n",
    "\n",
    "import checked_functions as c_f\n",
    "import symbols as sym"
   ],
   "outputs": []
  },
  {
   "cell_type": "markdown",
   "source": [
    "This document aims to plot certain double and triple Gaussian distributions."
   ],
   "metadata": {
    "collapsed": false
   },
   "id": "b90eda7b5a4fc3af"
  },
  {
   "cell_type": "code",
   "source": [
    "display(sp.Eq(sym.G_w, c_f.G_w))"
   ],
   "metadata": {
    "collapsed": false,
    "ExecuteTime": {
     "end_time": "2024-04-08T02:21:47.636591Z",
     "start_time": "2024-04-08T02:21:47.627381Z"
    }
   },
   "id": "5f12e4700202e227",
   "execution_count": 92,
   "outputs": []
  },
  {
   "cell_type": "code",
   "source": [
    "w_1 = 5\n",
    "w_2 = -5\n",
    "alpha = .2\n",
    "sigma_w = 2"
   ],
   "metadata": {
    "collapsed": false,
    "ExecuteTime": {
     "end_time": "2024-04-08T02:21:47.710097Z",
     "start_time": "2024-04-08T02:21:47.706423Z"
    }
   },
   "id": "3ebd804e6453537c",
   "execution_count": 93,
   "outputs": []
  },
  {
   "cell_type": "code",
   "source": [
    "G_w = sp.lambdify([\n",
    "    sp.abc.w,\n",
    "    sp.abc.delta,\n",
    "    sym.sigma_w_3\n",
    "], c_f.G_w.subs({\n",
    "    sym.w_bar: c_f.w_bar(),\n",
    "    sp.abc.alpha: alpha,\n",
    "    sym.sigma_w: sigma_w,\n",
    "    sym.w_1: w_1,\n",
    "    sym.w_2: w_2\n",
    "}))"
   ],
   "metadata": {
    "collapsed": false,
    "ExecuteTime": {
     "end_time": "2024-04-08T02:21:47.724768Z",
     "start_time": "2024-04-08T02:21:47.712264Z"
    }
   },
   "id": "973fec6dad96d49b",
   "execution_count": 94,
   "outputs": []
  },
  {
   "cell_type": "code",
   "source": [
    "G_3_w = sp.lambdify([\n",
    "    sp.abc.w,\n",
    "    sp.abc.delta,\n",
    "    sym.sigma_w_3\n",
    "], c_f.G_3_w_density.subs({\n",
    "    sym.w_bar: c_f.w_bar(),\n",
    "    sp.abc.alpha: alpha,\n",
    "    sym.sigma_w: sigma_w,\n",
    "    sym.w_1: w_1,\n",
    "    sym.w_2: w_2\n",
    "}))"
   ],
   "metadata": {
    "collapsed": false,
    "ExecuteTime": {
     "end_time": "2024-04-08T02:21:47.735654Z",
     "start_time": "2024-04-08T02:21:47.725773Z"
    }
   },
   "id": "d42a8dad0225663d",
   "execution_count": 95,
   "outputs": []
  },
  {
   "cell_type": "code",
   "source": [
    "def plot1d(delta, sigma_w_3, name, G_w=G_w, G_3_w=G_3_w, w_1=5, w_2=-5, alpha=.2, sigma_w=2):\n",
    "    bound = 10 if sigma_w_3 <= 2 else 20\n",
    "    w = np.linspace(start=-bound, stop=bound, num=1000).astype(float)\n",
    "    #w_bar = c_f.w_bar(alpha=alpha, delta=delta, w_1=w_1, w_2=w_2)\n",
    "    plt.plot(w, G_3_w(w, 1, sigma_w_3),\n",
    "             #label=r'$\\mathcal{N}$(' + str(w_bar) + f', {sigma_lambda_w})')\n",
    "             #label='third normal, ' + r'$\\sigma_{w3}$=' + f'{sigma_lambda_w}'\n",
    "             )\n",
    "    plt.plot(w, G_w(w, 0, sigma_w_3),\n",
    "             #label=f'{alpha} * ' + r'$\\mathcal{N}$(' + f'{w_1}, {sigma_w}) + ' +\n",
    "             #f'{1 - alpha} * ' + r'$\\mathcal{N}$(' + f'{w_2}, {sigma_w}) + ')\n",
    "             #label='binormal'\n",
    "             )\n",
    "    plt.plot(w, G_w(w, delta, sigma_w_3),\n",
    "             #label=f'{alpha * (1 - delta)} * ' + r'$\\mathcal{N}$(' + f'{w_1}, {sigma_w}) + ' +\n",
    "             #f'{(1 - alpha) * (1 - delta)} * ' + r'$\\mathcal{N}$(' + f'{w_2}, {sigma_w}) + ' +\n",
    "             #f'{delta} * ' + r'$\\mathcal{N}$(' + f'{w_bar}, {sigma_lambda_w})')\n",
    "             #label='mixture, ' + rf'$\\delta$={delta}'\n",
    "             )\n",
    "    #plt.xlabel('w')\n",
    "    plt.tick_params(left=False, right=False, labelleft=False, labelbottom=False, bottom=False)\n",
    "    #plt.legend()\n",
    "    plt.savefig(f\"plots/1dplot{name}.pdf\", format=\"pdf\", bbox_inches=\"tight\")\n",
    "    plt.show()\n",
    "    plt.close()"
   ],
   "metadata": {
    "collapsed": false,
    "ExecuteTime": {
     "end_time": "2024-04-08T02:21:47.743392Z",
     "start_time": "2024-04-08T02:21:47.736661Z"
    }
   },
   "id": "faa30898ad99508d",
   "execution_count": 96,
   "outputs": []
  },
  {
   "cell_type": "code",
   "source": [
    "for sigma_w_3 in [.5, 4, 8, 10]:\n",
    "    for delta in [.1, .5, .9]:\n",
    "        plot1d(delta=delta, sigma_w_3=sigma_w_3,\n",
    "               name=f'slw{int(sigma_w_3 * 10)}_delta{int(delta * 10)}')"
   ],
   "metadata": {
    "collapsed": false,
    "ExecuteTime": {
     "end_time": "2024-04-08T02:21:49.161701Z",
     "start_time": "2024-04-08T02:21:47.751147Z"
    }
   },
   "id": "532f785e76666b71",
   "execution_count": 97,
   "outputs": []
  }
 ],
 "metadata": {
  "kernelspec": {
   "display_name": "Python 3",
   "language": "python",
   "name": "python3"
  },
  "language_info": {
   "codemirror_mode": {
    "name": "ipython",
    "version": 2
   },
   "file_extension": ".py",
   "mimetype": "text/x-python",
   "name": "python",
   "nbconvert_exporter": "python",
   "pygments_lexer": "ipython2",
   "version": "2.7.6"
  }
 },
 "nbformat": 4,
 "nbformat_minor": 5
}
