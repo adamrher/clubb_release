{
 "cells": [
  {
   "cell_type": "code",
   "id": "initial_id",
   "metadata": {
    "collapsed": true,
    "ExecuteTime": {
     "end_time": "2024-04-23T00:18:41.243802Z",
     "start_time": "2024-04-23T00:18:30.893373Z"
    }
   },
   "source": [
    "import sympy as sp\n",
    "from IPython.display import display\n",
    "from sympy import abc, oo, init_printing\n",
    "\n",
    "import checked_functions as c_f\n",
    "import symbols as sym\n",
    "init_printing()"
   ],
   "outputs": [],
   "execution_count": 1
  },
  {
   "cell_type": "markdown",
   "source": [
    "# This document aims to analytically check $\\overline{w}$"
   ],
   "metadata": {
    "collapsed": false
   },
   "id": "cadb171e276e39c4"
  },
  {
   "cell_type": "markdown",
   "source": [
    "## Define the marginal distributions."
   ],
   "metadata": {
    "collapsed": false
   },
   "id": "471d4a00bbe78fef"
  },
  {
   "cell_type": "code",
   "source": [
    "display(sp.Eq(sym.G_1_w, c_f.G_1_theta_l_density))"
   ],
   "metadata": {
    "collapsed": false,
    "ExecuteTime": {
     "end_time": "2024-04-23T00:18:42.814746Z",
     "start_time": "2024-04-23T00:18:41.243802Z"
    }
   },
   "id": "fe5c13830b65cc99",
   "outputs": [
    {
     "data": {
      "text/plain": [
       "                                        2 \n",
       "                -(\\thetaₗ - \\theta_{l1})  \n",
       "                ──────────────────────────\n",
       "                                       2  \n",
       "                 2⋅\\sigma_{\\theta_{l1}}   \n",
       "            √2⋅ℯ                          \n",
       "G_{1w}(w) = ──────────────────────────────\n",
       "              2⋅√π⋅\\sigma_{\\theta_{l1}}   "
      ],
      "image/png": "[encoded data removed]",
      "text/latex": "$\\displaystyle G_{1w}(w) = \\frac{\\sqrt{2} e^{- \\frac{\\left(\\theta_{l} - \\theta_{l1}\\right)^{2}}{2 \\sigma_{\\theta_{l1}}^{2}}}}{2 \\sqrt{\\pi} \\sigma_{\\theta_{l1}}}$"
     },
     "metadata": {},
     "output_type": "display_data"
    }
   ],
   "execution_count": 2
  },
  {
   "cell_type": "code",
   "source": [
    "display(sp.Eq(sym.G_2_w, c_f.G_2_theta_l_density))"
   ],
   "metadata": {
    "collapsed": false,
    "ExecuteTime": {
     "end_time": "2024-04-23T00:18:44.367549Z",
     "start_time": "2024-04-23T00:18:42.814746Z"
    }
   },
   "id": "31bc217ce4ca7e41",
   "outputs": [
    {
     "data": {
      "text/plain": [
       "                                        2 \n",
       "                -(\\thetaₗ - \\theta_{l2})  \n",
       "                ──────────────────────────\n",
       "                                       2  \n",
       "                 2⋅\\sigma_{\\theta_{l2}}   \n",
       "            √2⋅ℯ                          \n",
       "G_{2w}(w) = ──────────────────────────────\n",
       "              2⋅√π⋅\\sigma_{\\theta_{l2}}   "
      ],
      "image/png": "[encoded data removed]",
      "text/latex": "$\\displaystyle G_{2w}(w) = \\frac{\\sqrt{2} e^{- \\frac{\\left(\\theta_{l} - \\theta_{l2}\\right)^{2}}{2 \\sigma_{\\theta_{l2}}^{2}}}}{2 \\sqrt{\\pi} \\sigma_{\\theta_{l2}}}$"
     },
     "metadata": {},
     "output_type": "display_data"
    }
   ],
   "execution_count": 3
  },
  {
   "cell_type": "code",
   "source": [
    "display(sp.Eq(sym.G_3_w, c_f.G_3_theta_l_density))"
   ],
   "metadata": {
    "collapsed": false,
    "ExecuteTime": {
     "end_time": "2024-04-23T00:18:45.707153Z",
     "start_time": "2024-04-23T00:18:44.368558Z"
    }
   },
   "id": "a26efe3a0b880c33",
   "outputs": [
    {
     "data": {
      "text/plain": [
       "                                                 2 \n",
       "                -(-\\overline{\\theta_l} + \\thetaₗ)  \n",
       "                ───────────────────────────────────\n",
       "                                            2      \n",
       "                       2⋅\\sigma_{\\theta_l 3}       \n",
       "            √2⋅ℯ                                   \n",
       "G_{3w}(w) = ───────────────────────────────────────\n",
       "                    2⋅√π⋅\\sigma_{\\theta_l 3}       "
      ],
      "image/png": "[encoded data removed]",
      "text/latex": "$\\displaystyle G_{3w}(w) = \\frac{\\sqrt{2} e^{- \\frac{\\left(- \\overline{\\theta_l} + \\theta_{l}\\right)^{2}}{2 \\sigma_{\\theta_l 3}^{2}}}}{2 \\sqrt{\\pi} \\sigma_{\\theta_l 3}}$"
     },
     "metadata": {},
     "output_type": "display_data"
    }
   ],
   "execution_count": 4
  },
  {
   "cell_type": "code",
   "source": [
    "display(sp.Eq(sym.G_w, c_f.G_w))"
   ],
   "metadata": {
    "collapsed": false,
    "ExecuteTime": {
     "end_time": "2024-04-23T00:18:47.070486Z",
     "start_time": "2024-04-23T00:18:45.707153Z"
    }
   },
   "id": "4a85679cf7c62a1d",
   "outputs": [
    {
     "data": {
      "text/plain": [
       "                                     2                           2            \n",
       "                 -(-\\overline{w} + w)                   -(w - w₁)             \n",
       "                 ──────────────────────                 ───────────           \n",
       "                                  2                               2           \n",
       "                     2⋅\\sigma_{w3}                      2⋅\\sigma_w            \n",
       "           √2⋅δ⋅ℯ                         √2⋅α⋅(1 - δ)⋅ℯ              √2⋅(1 - \n",
       "G_{w}(w) = ──────────────────────────── + ───────────────────────── + ────────\n",
       "                 2⋅√π⋅\\sigma_{w3}               2⋅√π⋅\\sigma_w                 \n",
       "\n",
       "                     2 \n",
       "            -(w - w₂)  \n",
       "            ───────────\n",
       "                      2\n",
       "            2⋅\\sigma_w \n",
       "α)⋅(1 - δ)⋅ℯ           \n",
       "───────────────────────\n",
       " 2⋅√π⋅\\sigma_w         "
      ],
      "image/png": "[encoded data removed]",
      "text/latex": "$\\displaystyle G_{w}(w) = \\frac{\\sqrt{2} \\delta e^{- \\frac{\\left(- \\overline{w} + w\\right)^{2}}{2 \\sigma_{w3}^{2}}}}{2 \\sqrt{\\pi} \\sigma_{w3}} + \\frac{\\sqrt{2} \\alpha \\left(1 - \\delta\\right) e^{- \\frac{\\left(w - w_{1}\\right)^{2}}{2 \\sigma_{w}^{2}}}}{2 \\sqrt{\\pi} \\sigma_{w}} + \\frac{\\sqrt{2} \\cdot \\left(1 - \\alpha\\right) \\left(1 - \\delta\\right) e^{- \\frac{\\left(w - w_{2}\\right)^{2}}{2 \\sigma_{w}^{2}}}}{2 \\sqrt{\\pi} \\sigma_{w}}$"
     },
     "metadata": {},
     "output_type": "display_data"
    }
   ],
   "execution_count": 5
  },
  {
   "cell_type": "markdown",
   "source": [
    "Calculate the moment analytically:"
   ],
   "metadata": {
    "collapsed": false
   },
   "id": "d20100b3e2988e55"
  },
  {
   "cell_type": "code",
   "source": [
    "w_bar_int = sp.Integral(sp.abc.w * c_f.G_w, [sp.abc.w, -oo, oo])\n",
    "display(sp.Eq(sym.w_bar, w_bar_int))"
   ],
   "metadata": {
    "collapsed": false,
    "ExecuteTime": {
     "end_time": "2024-04-23T00:18:48.552611Z",
     "start_time": "2024-04-23T00:18:47.070486Z"
    }
   },
   "id": "e98619a3427d325f",
   "outputs": [
    {
     "data": {
      "text/plain": [
       "               ∞                                                              \n",
       "               ⌠                                                              \n",
       "               ⎮    ⎛                          2                           2  \n",
       "               ⎮    ⎜      -(-\\overline{w} + w)                   -(w - w₁)   \n",
       "               ⎮    ⎜      ──────────────────────                 ─────────── \n",
       "               ⎮    ⎜                       2                               2 \n",
       "               ⎮    ⎜          2⋅\\sigma_{w3}                      2⋅\\sigma_w  \n",
       "               ⎮    ⎜√2⋅δ⋅ℯ                         √2⋅α⋅(1 - δ)⋅ℯ            \n",
       "\\overline{w} = ⎮  w⋅⎜──────────────────────────── + ───────────────────────── \n",
       "               ⎮    ⎝      2⋅√π⋅\\sigma_{w3}               2⋅√π⋅\\sigma_w       \n",
       "               ⌡                                                              \n",
       "               -∞                                                             \n",
       "\n",
       "                                     \n",
       "                                     \n",
       "                               2 ⎞   \n",
       "                      -(w - w₂)  ⎟   \n",
       "                      ───────────⎟   \n",
       "                                2⎟   \n",
       "                      2⋅\\sigma_w ⎟   \n",
       "  √2⋅(1 - α)⋅(1 - δ)⋅ℯ           ⎟   \n",
       "+ ───────────────────────────────⎟ dw\n",
       "           2⋅√π⋅\\sigma_w         ⎠   \n",
       "                                     \n",
       "                                     "
      ],
      "image/png": "[encoded data removed]",
      "text/latex": "$\\displaystyle \\overline{w} = \\int\\limits_{-\\infty}^{\\infty} w \\left(\\frac{\\sqrt{2} \\delta e^{- \\frac{\\left(- \\overline{w} + w\\right)^{2}}{2 \\sigma_{w3}^{2}}}}{2 \\sqrt{\\pi} \\sigma_{w3}} + \\frac{\\sqrt{2} \\alpha \\left(1 - \\delta\\right) e^{- \\frac{\\left(w - w_{1}\\right)^{2}}{2 \\sigma_{w}^{2}}}}{2 \\sqrt{\\pi} \\sigma_{w}} + \\frac{\\sqrt{2} \\cdot \\left(1 - \\alpha\\right) \\left(1 - \\delta\\right) e^{- \\frac{\\left(w - w_{2}\\right)^{2}}{2 \\sigma_{w}^{2}}}}{2 \\sqrt{\\pi} \\sigma_{w}}\\right)\\, dw$"
     },
     "metadata": {},
     "output_type": "display_data"
    }
   ],
   "execution_count": 6
  },
  {
   "cell_type": "code",
   "source": [
    "w_bar_int_val = w_bar_int.doit(conds='none').simplify()\n",
    "display(sp.Eq(sym.w_bar, w_bar_int_val))"
   ],
   "metadata": {
    "collapsed": false,
    "ExecuteTime": {
     "end_time": "2024-04-23T00:18:54.867700Z",
     "start_time": "2024-04-23T00:18:48.552611Z"
    }
   },
   "id": "4dbdc155dd351f84",
   "outputs": [
    {
     "data": {
      "text/plain": [
       "\\overline{w} = \\overline{w}⋅δ - α⋅δ⋅w₁ + α⋅δ⋅w₂ + α⋅w₁ - α⋅w₂ - δ⋅w₂ + w₂"
      ],
      "image/png": "[encoded data removed]",
      "text/latex": "$\\displaystyle \\overline{w} = \\overline{w} \\delta - \\alpha \\delta w_{1} + \\alpha \\delta w_{2} + \\alpha w_{1} - \\alpha w_{2} - \\delta w_{2} + w_{2}$"
     },
     "metadata": {},
     "output_type": "display_data"
    }
   ],
   "execution_count": 7
  },
  {
   "cell_type": "markdown",
   "source": [
    "The equation in the document is:"
   ],
   "metadata": {
    "collapsed": false
   },
   "id": "d3c731c18da66743"
  },
  {
   "cell_type": "code",
   "source": [
    "display(sp.Eq(sym.w_bar, c_f.w_bar()))"
   ],
   "metadata": {
    "collapsed": false,
    "ExecuteTime": {
     "end_time": "2024-04-23T00:18:56.321083Z",
     "start_time": "2024-04-23T00:18:54.867700Z"
    }
   },
   "id": "2db5f73149693ab0",
   "outputs": [
    {
     "data": {
      "text/plain": [
       "\\overline{w} = α⋅w₁⋅(1 - δ) + δ⋅(α⋅w₁ + w₂⋅(1 - α)) + w₂⋅(1 - α)⋅(1 - δ)"
      ],
      "image/png": "[encoded data removed]",
      "text/latex": "$\\displaystyle \\overline{w} = \\alpha w_{1} \\cdot \\left(1 - \\delta\\right) + \\delta \\left(\\alpha w_{1} + w_{2} \\cdot \\left(1 - \\alpha\\right)\\right) + w_{2} \\cdot \\left(1 - \\alpha\\right) \\left(1 - \\delta\\right)$"
     },
     "metadata": {},
     "output_type": "display_data"
    }
   ],
   "execution_count": 8
  },
  {
   "cell_type": "markdown",
   "source": [
    "Setting those equations equal:"
   ],
   "metadata": {
    "collapsed": false
   },
   "id": "d0dece4fd3df4e32"
  },
  {
   "cell_type": "code",
   "source": [
    "display(sp.factor(sp.Eq(w_bar_int_val.subs({sym.w_bar: c_f.w_bar()}), c_f.w_bar()), sp.abc.alpha))"
   ],
   "metadata": {
    "collapsed": false,
    "ExecuteTime": {
     "end_time": "2024-04-23T00:18:57.698121Z",
     "start_time": "2024-04-23T00:18:56.321083Z"
    }
   },
   "id": "e14d22f0cb5e4cf2",
   "outputs": [
    {
     "data": {
      "text/plain": [
       "True"
      ],
      "image/png": "[encoded data removed]",
      "text/latex": "$\\displaystyle \\text{True}$"
     },
     "metadata": {},
     "output_type": "display_data"
    }
   ],
   "execution_count": 9
  }
 ],
 "metadata": {
  "kernelspec": {
   "display_name": "Python 3",
   "language": "python",
   "name": "python3"
  },
  "language_info": {
   "codemirror_mode": {
    "name": "ipython",
    "version": 2
   },
   "file_extension": ".py",
   "mimetype": "text/x-python",
   "name": "python",
   "nbconvert_exporter": "python",
   "pygments_lexer": "ipython2",
   "version": "2.7.6"
  }
 },
 "nbformat": 4,
 "nbformat_minor": 5
}
