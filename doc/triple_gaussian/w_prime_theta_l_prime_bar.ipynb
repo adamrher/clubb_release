{
 "cells": [
  {
   "cell_type": "code",
   "id": "initial_id",
   "metadata": {
    "collapsed": true,
    "ExecuteTime": {
     "end_time": "2024-05-03T15:47:40.896666Z",
     "start_time": "2024-05-03T15:47:35.598897Z"
    }
   },
   "source": [
    "from itertools import product\n",
    "\n",
    "import pandas as pd\n",
    "\n",
    "pd.set_option('display.max_columns', None)\n",
    "pd.set_option('display.max_rows', None)\n",
    "\n",
    "import sympy as sp\n",
    "from IPython.display import display\n",
    "from sympy import abc, oo, Rational\n",
    "\n",
    "import checked_functions as c_f\n",
    "import symbols as sym"
   ],
   "outputs": [],
   "execution_count": 1
  },
  {
   "cell_type": "markdown",
   "source": [
    "# This document aims to numerically check $\\overline{w'\\theta_l'}$"
   ],
   "metadata": {
    "collapsed": false
   },
   "id": "cadb171e276e39c4"
  },
  {
   "cell_type": "markdown",
   "source": [
    "## Define the marginal distributions."
   ],
   "metadata": {
    "collapsed": false
   },
   "id": "c7d88e4ec09617c1"
  },
  {
   "cell_type": "code",
   "source": [
    "display(sp.Eq(sym.G_1_w_theta, c_f.G_1_w_theta_density))"
   ],
   "metadata": {
    "collapsed": false,
    "ExecuteTime": {
     "end_time": "2024-05-03T15:47:40.909852Z",
     "start_time": "2024-05-03T15:47:40.896666Z"
    }
   },
   "id": "a3a1ed0e18da4b22",
   "outputs": [
    {
     "data": {
      "text/plain": [
       "Eq(G_{1w\\theta}(w,\\theta), exp(-(\\sigma_w**2*\\theta_{l1}**2 - 2*\\sigma_w**2*\\theta_{l1}*theta + \\sigma_w**2*theta**2 + \\sigma_{\\theta_{l1}}**2*w**2 - 2*\\sigma_{\\theta_{l1}}**2*w*w_1 + \\sigma_{\\theta_{l1}}**2*w_1**2)/(2*\\sigma_w**2*\\sigma_{\\theta_{l1}}**2))/(2*pi*sqrt(\\sigma_w**2*\\sigma_{\\theta_{l1}}**2)))"
      ],
      "text/latex": "$\\displaystyle G_{1w\\theta}(w,\\theta) = \\frac{e^{- \\frac{\\sigma_{w}^{2} \\theta_{l1}^{2} - 2 \\sigma_{w}^{2} \\theta_{l1} \\theta + \\sigma_{w}^{2} \\theta^{2} + \\sigma_{\\theta_{l1}}^{2} w^{2} - 2 \\sigma_{\\theta_{l1}}^{2} w w_{1} + \\sigma_{\\theta_{l1}}^{2} w_{1}^{2}}{2 \\sigma_{w}^{2} \\sigma_{\\theta_{l1}}^{2}}}}{2 \\pi \\sqrt{\\sigma_{w}^{2} \\sigma_{\\theta_{l1}}^{2}}}$"
     },
     "metadata": {},
     "output_type": "display_data"
    }
   ],
   "execution_count": 2
  },
  {
   "cell_type": "code",
   "source": [
    "display(sp.Eq(sym.G_2_w_theta, c_f.G_2_w_theta_density))"
   ],
   "metadata": {
    "collapsed": false,
    "ExecuteTime": {
     "end_time": "2024-05-03T15:47:40.922102Z",
     "start_time": "2024-05-03T15:47:40.909852Z"
    }
   },
   "id": "9bc07f05881e874f",
   "outputs": [
    {
     "data": {
      "text/plain": [
       "Eq(G_{2w\\theta}(w,\\theta), exp(-(\\sigma_w**2*\\theta_{l2}**2 - 2*\\sigma_w**2*\\theta_{l2}*theta + \\sigma_w**2*theta**2 + \\sigma_{\\theta_{l2}}**2*w**2 - 2*\\sigma_{\\theta_{l2}}**2*w*w_2 + \\sigma_{\\theta_{l2}}**2*w_2**2)/(2*\\sigma_w**2*\\sigma_{\\theta_{l2}}**2))/(2*pi*sqrt(\\sigma_w**2*\\sigma_{\\theta_{l2}}**2)))"
      ],
      "text/latex": "$\\displaystyle G_{2w\\theta}(w,\\theta) = \\frac{e^{- \\frac{\\sigma_{w}^{2} \\theta_{l2}^{2} - 2 \\sigma_{w}^{2} \\theta_{l2} \\theta + \\sigma_{w}^{2} \\theta^{2} + \\sigma_{\\theta_{l2}}^{2} w^{2} - 2 \\sigma_{\\theta_{l2}}^{2} w w_{2} + \\sigma_{\\theta_{l2}}^{2} w_{2}^{2}}{2 \\sigma_{w}^{2} \\sigma_{\\theta_{l2}}^{2}}}}{2 \\pi \\sqrt{\\sigma_{w}^{2} \\sigma_{\\theta_{l2}}^{2}}}$"
     },
     "metadata": {},
     "output_type": "display_data"
    }
   ],
   "execution_count": 3
  },
  {
   "cell_type": "code",
   "source": [
    "display(sp.Eq(sym.G_3_w_theta, c_f.G_3_w_theta_density))"
   ],
   "metadata": {
    "collapsed": false,
    "ExecuteTime": {
     "end_time": "2024-05-03T15:47:40.937159Z",
     "start_time": "2024-05-03T15:47:40.922102Z"
    }
   },
   "id": "c9e9ceb91f2e0e96",
   "outputs": [
    {
     "data": {
      "text/plain": [
       "Eq(G_{3w\\theta}(w,\\theta), exp((\\overline{\\theta_l}**2*\\sigma_{w3}**2 - 2*\\overline{\\theta_l}*\\overline{w}*\\rho_{w\\theta_l}*\\sigma_{\\theta_l 3}*\\sigma_{w3} + 2*\\overline{\\theta_l}*\\rho_{w\\theta_l}*\\sigma_{\\theta_l 3}*\\sigma_{w3}*w - 2*\\overline{\\theta_l}*\\sigma_{w3}**2*theta + \\overline{w}**2*\\sigma_{\\theta_l 3}**2 + 2*\\overline{w}*\\rho_{w\\theta_l}*\\sigma_{\\theta_l 3}*\\sigma_{w3}*theta - 2*\\overline{w}*\\sigma_{\\theta_l 3}**2*w - 2*\\rho_{w\\theta_l}*\\sigma_{\\theta_l 3}*\\sigma_{w3}*theta*w + \\sigma_{\\theta_l 3}**2*w**2 + \\sigma_{w3}**2*theta**2)/(2*\\sigma_{\\theta_l 3}**2*\\sigma_{w3}**2*(\\rho_{w\\theta_l} - 1)*(\\rho_{w\\theta_l} + 1)))/(2*pi*sqrt(\\sigma_{\\theta_l 3}**2*\\sigma_{w3}**2*(1 - \\rho_{w\\theta_l}**2))))"
      ],
      "text/latex": "$\\displaystyle G_{3w\\theta}(w,\\theta) = \\frac{e^{\\frac{\\overline{\\theta_l}^{2} \\sigma_{w3}^{2} - 2 \\overline{\\theta_l} \\overline{w} \\rho_{w\\theta_l} \\sigma_{\\theta_l 3} \\sigma_{w3} + 2 \\overline{\\theta_l} \\rho_{w\\theta_l} \\sigma_{\\theta_l 3} \\sigma_{w3} w - 2 \\overline{\\theta_l} \\sigma_{w3}^{2} \\theta + \\overline{w}^{2} \\sigma_{\\theta_l 3}^{2} + 2 \\overline{w} \\rho_{w\\theta_l} \\sigma_{\\theta_l 3} \\sigma_{w3} \\theta - 2 \\overline{w} \\sigma_{\\theta_l 3}^{2} w - 2 \\rho_{w\\theta_l} \\sigma_{\\theta_l 3} \\sigma_{w3} \\theta w + \\sigma_{\\theta_l 3}^{2} w^{2} + \\sigma_{w3}^{2} \\theta^{2}}{2 \\sigma_{\\theta_l 3}^{2} \\sigma_{w3}^{2} \\left(\\rho_{w\\theta_l} - 1\\right) \\left(\\rho_{w\\theta_l} + 1\\right)}}}{2 \\pi \\sqrt{\\sigma_{\\theta_l 3}^{2} \\sigma_{w3}^{2} \\cdot \\left(1 - \\rho_{w\\theta_l}^{2}\\right)}}$"
     },
     "metadata": {},
     "output_type": "display_data"
    }
   ],
   "execution_count": 4
  },
  {
   "cell_type": "code",
   "source": [
    "display(sp.Eq(sym.G_w_theta, c_f.G_w_theta, evaluate=False))"
   ],
   "metadata": {
    "collapsed": false,
    "ExecuteTime": {
     "end_time": "2024-05-03T15:47:40.959828Z",
     "start_time": "2024-05-03T15:47:40.937159Z"
    }
   },
   "id": "9053842bb8cc0310",
   "outputs": [
    {
     "data": {
      "text/plain": [
       "Eq(G_{w\\theta}(w,\\theta), alpha*(1 - delta)*exp(-(\\sigma_w**2*\\theta_{l1}**2 - 2*\\sigma_w**2*\\theta_{l1}*theta + \\sigma_w**2*theta**2 + \\sigma_{\\theta_{l1}}**2*w**2 - 2*\\sigma_{\\theta_{l1}}**2*w*w_1 + \\sigma_{\\theta_{l1}}**2*w_1**2)/(2*\\sigma_w**2*\\sigma_{\\theta_{l1}}**2))/(2*pi*sqrt(\\sigma_w**2*\\sigma_{\\theta_{l1}}**2)) + delta*exp((\\overline{\\theta_l}**2*\\sigma_{w3}**2 - 2*\\overline{\\theta_l}*\\overline{w}*\\rho_{w\\theta_l}*\\sigma_{\\theta_l 3}*\\sigma_{w3} + 2*\\overline{\\theta_l}*\\rho_{w\\theta_l}*\\sigma_{\\theta_l 3}*\\sigma_{w3}*w - 2*\\overline{\\theta_l}*\\sigma_{w3}**2*theta + \\overline{w}**2*\\sigma_{\\theta_l 3}**2 + 2*\\overline{w}*\\rho_{w\\theta_l}*\\sigma_{\\theta_l 3}*\\sigma_{w3}*theta - 2*\\overline{w}*\\sigma_{\\theta_l 3}**2*w - 2*\\rho_{w\\theta_l}*\\sigma_{\\theta_l 3}*\\sigma_{w3}*theta*w + \\sigma_{\\theta_l 3}**2*w**2 + \\sigma_{w3}**2*theta**2)/(2*\\sigma_{\\theta_l 3}**2*\\sigma_{w3}**2*(\\rho_{w\\theta_l} - 1)*(\\rho_{w\\theta_l} + 1)))/(2*pi*sqrt(\\sigma_{\\theta_l 3}**2*\\sigma_{w3}**2*(1 - \\rho_{w\\theta_l}**2))) + (1 - alpha)*(1 - delta)*exp(-(\\sigma_w**2*\\theta_{l2}**2 - 2*\\sigma_w**2*\\theta_{l2}*theta + \\sigma_w**2*theta**2 + \\sigma_{\\theta_{l2}}**2*w**2 - 2*\\sigma_{\\theta_{l2}}**2*w*w_2 + \\sigma_{\\theta_{l2}}**2*w_2**2)/(2*\\sigma_w**2*\\sigma_{\\theta_{l2}}**2))/(2*pi*sqrt(\\sigma_w**2*\\sigma_{\\theta_{l2}}**2)))"
      ],
      "text/latex": "$\\displaystyle G_{w\\theta}(w,\\theta) = \\frac{\\alpha \\left(1 - \\delta\\right) e^{- \\frac{\\sigma_{w}^{2} \\theta_{l1}^{2} - 2 \\sigma_{w}^{2} \\theta_{l1} \\theta + \\sigma_{w}^{2} \\theta^{2} + \\sigma_{\\theta_{l1}}^{2} w^{2} - 2 \\sigma_{\\theta_{l1}}^{2} w w_{1} + \\sigma_{\\theta_{l1}}^{2} w_{1}^{2}}{2 \\sigma_{w}^{2} \\sigma_{\\theta_{l1}}^{2}}}}{2 \\pi \\sqrt{\\sigma_{w}^{2} \\sigma_{\\theta_{l1}}^{2}}} + \\frac{\\delta e^{\\frac{\\overline{\\theta_l}^{2} \\sigma_{w3}^{2} - 2 \\overline{\\theta_l} \\overline{w} \\rho_{w\\theta_l} \\sigma_{\\theta_l 3} \\sigma_{w3} + 2 \\overline{\\theta_l} \\rho_{w\\theta_l} \\sigma_{\\theta_l 3} \\sigma_{w3} w - 2 \\overline{\\theta_l} \\sigma_{w3}^{2} \\theta + \\overline{w}^{2} \\sigma_{\\theta_l 3}^{2} + 2 \\overline{w} \\rho_{w\\theta_l} \\sigma_{\\theta_l 3} \\sigma_{w3} \\theta - 2 \\overline{w} \\sigma_{\\theta_l 3}^{2} w - 2 \\rho_{w\\theta_l} \\sigma_{\\theta_l 3} \\sigma_{w3} \\theta w + \\sigma_{\\theta_l 3}^{2} w^{2} + \\sigma_{w3}^{2} \\theta^{2}}{2 \\sigma_{\\theta_l 3}^{2} \\sigma_{w3}^{2} \\left(\\rho_{w\\theta_l} - 1\\right) \\left(\\rho_{w\\theta_l} + 1\\right)}}}{2 \\pi \\sqrt{\\sigma_{\\theta_l 3}^{2} \\sigma_{w3}^{2} \\cdot \\left(1 - \\rho_{w\\theta_l}^{2}\\right)}} + \\frac{\\left(1 - \\alpha\\right) \\left(1 - \\delta\\right) e^{- \\frac{\\sigma_{w}^{2} \\theta_{l2}^{2} - 2 \\sigma_{w}^{2} \\theta_{l2} \\theta + \\sigma_{w}^{2} \\theta^{2} + \\sigma_{\\theta_{l2}}^{2} w^{2} - 2 \\sigma_{\\theta_{l2}}^{2} w w_{2} + \\sigma_{\\theta_{l2}}^{2} w_{2}^{2}}{2 \\sigma_{w}^{2} \\sigma_{\\theta_{l2}}^{2}}}}{2 \\pi \\sqrt{\\sigma_{w}^{2} \\sigma_{\\theta_{l2}}^{2}}}$"
     },
     "metadata": {},
     "output_type": "display_data"
    }
   ],
   "execution_count": 5
  },
  {
   "cell_type": "code",
   "source": [
    "w_prime_theta_l_prime_bar = sp.Integral((sp.abc.w - sym.w_bar) * (sp.abc.theta - sym.theta_l_bar) * c_f.G_w_theta,\n",
    "                                        [sp.abc.w, -oo, oo],\n",
    "                                        [sp.abc.theta, -oo, oo])\n",
    "display(sp.Eq(sym.w_prime_theta_l_prime_bar, w_prime_theta_l_prime_bar))"
   ],
   "metadata": {
    "collapsed": false,
    "ExecuteTime": {
     "end_time": "2024-05-03T15:47:40.985379Z",
     "start_time": "2024-05-03T15:47:40.961837Z"
    }
   },
   "id": "cb537cf589b57365",
   "outputs": [
    {
     "data": {
      "text/plain": [
       "Eq(\\overline{w'\\theta'_l}, Integral((-\\overline{\\theta_l} + theta)*(-\\overline{w} + w)*(alpha*(1 - delta)*exp(-(\\sigma_w**2*\\theta_{l1}**2 - 2*\\sigma_w**2*\\theta_{l1}*theta + \\sigma_w**2*theta**2 + \\sigma_{\\theta_{l1}}**2*w**2 - 2*\\sigma_{\\theta_{l1}}**2*w*w_1 + \\sigma_{\\theta_{l1}}**2*w_1**2)/(2*\\sigma_w**2*\\sigma_{\\theta_{l1}}**2))/(2*pi*sqrt(\\sigma_w**2*\\sigma_{\\theta_{l1}}**2)) + delta*exp((\\overline{\\theta_l}**2*\\sigma_{w3}**2 - 2*\\overline{\\theta_l}*\\overline{w}*\\rho_{w\\theta_l}*\\sigma_{\\theta_l 3}*\\sigma_{w3} + 2*\\overline{\\theta_l}*\\rho_{w\\theta_l}*\\sigma_{\\theta_l 3}*\\sigma_{w3}*w - 2*\\overline{\\theta_l}*\\sigma_{w3}**2*theta + \\overline{w}**2*\\sigma_{\\theta_l 3}**2 + 2*\\overline{w}*\\rho_{w\\theta_l}*\\sigma_{\\theta_l 3}*\\sigma_{w3}*theta - 2*\\overline{w}*\\sigma_{\\theta_l 3}**2*w - 2*\\rho_{w\\theta_l}*\\sigma_{\\theta_l 3}*\\sigma_{w3}*theta*w + \\sigma_{\\theta_l 3}**2*w**2 + \\sigma_{w3}**2*theta**2)/(2*\\sigma_{\\theta_l 3}**2*\\sigma_{w3}**2*(\\rho_{w\\theta_l} - 1)*(\\rho_{w\\theta_l} + 1)))/(2*pi*sqrt(\\sigma_{\\theta_l 3}**2*\\sigma_{w3}**2*(1 - \\rho_{w\\theta_l}**2))) + (1 - alpha)*(1 - delta)*exp(-(\\sigma_w**2*\\theta_{l2}**2 - 2*\\sigma_w**2*\\theta_{l2}*theta + \\sigma_w**2*theta**2 + \\sigma_{\\theta_{l2}}**2*w**2 - 2*\\sigma_{\\theta_{l2}}**2*w*w_2 + \\sigma_{\\theta_{l2}}**2*w_2**2)/(2*\\sigma_w**2*\\sigma_{\\theta_{l2}}**2))/(2*pi*sqrt(\\sigma_w**2*\\sigma_{\\theta_{l2}}**2))), (w, -oo, oo), (theta, -oo, oo)))"
      ],
      "text/latex": "$\\displaystyle \\overline{w'\\theta'_l} = \\int\\limits_{-\\infty}^{\\infty}\\int\\limits_{-\\infty}^{\\infty} \\left(- \\overline{\\theta_l} + \\theta\\right) \\left(- \\overline{w} + w\\right) \\left(\\frac{\\alpha \\left(1 - \\delta\\right) e^{- \\frac{\\sigma_{w}^{2} \\theta_{l1}^{2} - 2 \\sigma_{w}^{2} \\theta_{l1} \\theta + \\sigma_{w}^{2} \\theta^{2} + \\sigma_{\\theta_{l1}}^{2} w^{2} - 2 \\sigma_{\\theta_{l1}}^{2} w w_{1} + \\sigma_{\\theta_{l1}}^{2} w_{1}^{2}}{2 \\sigma_{w}^{2} \\sigma_{\\theta_{l1}}^{2}}}}{2 \\pi \\sqrt{\\sigma_{w}^{2} \\sigma_{\\theta_{l1}}^{2}}} + \\frac{\\delta e^{\\frac{\\overline{\\theta_l}^{2} \\sigma_{w3}^{2} - 2 \\overline{\\theta_l} \\overline{w} \\rho_{w\\theta_l} \\sigma_{\\theta_l 3} \\sigma_{w3} + 2 \\overline{\\theta_l} \\rho_{w\\theta_l} \\sigma_{\\theta_l 3} \\sigma_{w3} w - 2 \\overline{\\theta_l} \\sigma_{w3}^{2} \\theta + \\overline{w}^{2} \\sigma_{\\theta_l 3}^{2} + 2 \\overline{w} \\rho_{w\\theta_l} \\sigma_{\\theta_l 3} \\sigma_{w3} \\theta - 2 \\overline{w} \\sigma_{\\theta_l 3}^{2} w - 2 \\rho_{w\\theta_l} \\sigma_{\\theta_l 3} \\sigma_{w3} \\theta w + \\sigma_{\\theta_l 3}^{2} w^{2} + \\sigma_{w3}^{2} \\theta^{2}}{2 \\sigma_{\\theta_l 3}^{2} \\sigma_{w3}^{2} \\left(\\rho_{w\\theta_l} - 1\\right) \\left(\\rho_{w\\theta_l} + 1\\right)}}}{2 \\pi \\sqrt{\\sigma_{\\theta_l 3}^{2} \\sigma_{w3}^{2} \\cdot \\left(1 - \\rho_{w\\theta_l}^{2}\\right)}} + \\frac{\\left(1 - \\alpha\\right) \\left(1 - \\delta\\right) e^{- \\frac{\\sigma_{w}^{2} \\theta_{l2}^{2} - 2 \\sigma_{w}^{2} \\theta_{l2} \\theta + \\sigma_{w}^{2} \\theta^{2} + \\sigma_{\\theta_{l2}}^{2} w^{2} - 2 \\sigma_{\\theta_{l2}}^{2} w w_{2} + \\sigma_{\\theta_{l2}}^{2} w_{2}^{2}}{2 \\sigma_{w}^{2} \\sigma_{\\theta_{l2}}^{2}}}}{2 \\pi \\sqrt{\\sigma_{w}^{2} \\sigma_{\\theta_{l2}}^{2}}}\\right)\\, dw\\, d\\theta$"
     },
     "metadata": {},
     "output_type": "display_data"
    }
   ],
   "execution_count": 6
  },
  {
   "cell_type": "code",
   "source": [
    "w_prime_theta_l_prime_bar = (\n",
    "    w_prime_theta_l_prime_bar.subs({\n",
    "        sym.w_bar: c_f.w_bar(),\n",
    "        sym.theta_l_bar: c_f.theta_l_bar()\n",
    "    })\n",
    ")\n",
    "display(sp.Eq(sym.w_prime_theta_l_prime_bar, w_prime_theta_l_prime_bar))"
   ],
   "metadata": {
    "collapsed": false,
    "ExecuteTime": {
     "end_time": "2024-05-03T15:47:41.074107Z",
     "start_time": "2024-05-03T15:47:40.986384Z"
    }
   },
   "id": "e478dcae587bd6b4",
   "outputs": [
    {
     "data": {
      "text/plain": [
       "Eq(\\overline{w'\\theta'_l}, Integral((alpha*(1 - delta)*exp(-(\\sigma_w**2*\\theta_{l1}**2 - 2*\\sigma_w**2*\\theta_{l1}*theta + \\sigma_w**2*theta**2 + \\sigma_{\\theta_{l1}}**2*w**2 - 2*\\sigma_{\\theta_{l1}}**2*w*w_1 + \\sigma_{\\theta_{l1}}**2*w_1**2)/(2*\\sigma_w**2*\\sigma_{\\theta_{l1}}**2))/(2*pi*sqrt(\\sigma_w**2*\\sigma_{\\theta_{l1}}**2)) + delta*exp((-2*\\rho_{w\\theta_l}*\\sigma_{\\theta_l 3}*\\sigma_{w3}*theta*w + 2*\\rho_{w\\theta_l}*\\sigma_{\\theta_l 3}*\\sigma_{w3}*theta*(alpha*w_1*(1 - delta) + delta*(alpha*w_1 + w_2*(1 - alpha)) + w_2*(1 - alpha)*(1 - delta)) + 2*\\rho_{w\\theta_l}*\\sigma_{\\theta_l 3}*\\sigma_{w3}*w*(\\theta_{l1}*alpha*(1 - delta) + \\theta_{l2}*(1 - alpha)*(1 - delta) + delta*(\\theta_{l1}*alpha + \\theta_{l2}*(1 - alpha))) - 2*\\rho_{w\\theta_l}*\\sigma_{\\theta_l 3}*\\sigma_{w3}*(\\theta_{l1}*alpha*(1 - delta) + \\theta_{l2}*(1 - alpha)*(1 - delta) + delta*(\\theta_{l1}*alpha + \\theta_{l2}*(1 - alpha)))*(alpha*w_1*(1 - delta) + delta*(alpha*w_1 + w_2*(1 - alpha)) + w_2*(1 - alpha)*(1 - delta)) + \\sigma_{\\theta_l 3}**2*w**2 - 2*\\sigma_{\\theta_l 3}**2*w*(alpha*w_1*(1 - delta) + delta*(alpha*w_1 + w_2*(1 - alpha)) + w_2*(1 - alpha)*(1 - delta)) + \\sigma_{\\theta_l 3}**2*(alpha*w_1*(1 - delta) + delta*(alpha*w_1 + w_2*(1 - alpha)) + w_2*(1 - alpha)*(1 - delta))**2 + \\sigma_{w3}**2*theta**2 - 2*\\sigma_{w3}**2*theta*(\\theta_{l1}*alpha*(1 - delta) + \\theta_{l2}*(1 - alpha)*(1 - delta) + delta*(\\theta_{l1}*alpha + \\theta_{l2}*(1 - alpha))) + \\sigma_{w3}**2*(\\theta_{l1}*alpha*(1 - delta) + \\theta_{l2}*(1 - alpha)*(1 - delta) + delta*(\\theta_{l1}*alpha + \\theta_{l2}*(1 - alpha)))**2)/(2*\\sigma_{\\theta_l 3}**2*\\sigma_{w3}**2*(\\rho_{w\\theta_l} - 1)*(\\rho_{w\\theta_l} + 1)))/(2*pi*sqrt(\\sigma_{\\theta_l 3}**2*\\sigma_{w3}**2*(1 - \\rho_{w\\theta_l}**2))) + (1 - alpha)*(1 - delta)*exp(-(\\sigma_w**2*\\theta_{l2}**2 - 2*\\sigma_w**2*\\theta_{l2}*theta + \\sigma_w**2*theta**2 + \\sigma_{\\theta_{l2}}**2*w**2 - 2*\\sigma_{\\theta_{l2}}**2*w*w_2 + \\sigma_{\\theta_{l2}}**2*w_2**2)/(2*\\sigma_w**2*\\sigma_{\\theta_{l2}}**2))/(2*pi*sqrt(\\sigma_w**2*\\sigma_{\\theta_{l2}}**2)))*(-\\theta_{l1}*alpha*(1 - delta) - \\theta_{l2}*(1 - alpha)*(1 - delta) - delta*(\\theta_{l1}*alpha + \\theta_{l2}*(1 - alpha)) + theta)*(-alpha*w_1*(1 - delta) - delta*(alpha*w_1 + w_2*(1 - alpha)) + w - w_2*(1 - alpha)*(1 - delta)), (w, -oo, oo), (theta, -oo, oo)))"
      ],
      "text/latex": "$\\displaystyle \\overline{w'\\theta'_l} = \\int\\limits_{-\\infty}^{\\infty}\\int\\limits_{-\\infty}^{\\infty} \\left(\\frac{\\alpha \\left(1 - \\delta\\right) e^{- \\frac{\\sigma_{w}^{2} \\theta_{l1}^{2} - 2 \\sigma_{w}^{2} \\theta_{l1} \\theta + \\sigma_{w}^{2} \\theta^{2} + \\sigma_{\\theta_{l1}}^{2} w^{2} - 2 \\sigma_{\\theta_{l1}}^{2} w w_{1} + \\sigma_{\\theta_{l1}}^{2} w_{1}^{2}}{2 \\sigma_{w}^{2} \\sigma_{\\theta_{l1}}^{2}}}}{2 \\pi \\sqrt{\\sigma_{w}^{2} \\sigma_{\\theta_{l1}}^{2}}} + \\frac{\\delta e^{\\frac{- 2 \\rho_{w\\theta_l} \\sigma_{\\theta_l 3} \\sigma_{w3} \\theta w + 2 \\rho_{w\\theta_l} \\sigma_{\\theta_l 3} \\sigma_{w3} \\theta \\left(\\alpha w_{1} \\cdot \\left(1 - \\delta\\right) + \\delta \\left(\\alpha w_{1} + w_{2} \\cdot \\left(1 - \\alpha\\right)\\right) + w_{2} \\cdot \\left(1 - \\alpha\\right) \\left(1 - \\delta\\right)\\right) + 2 \\rho_{w\\theta_l} \\sigma_{\\theta_l 3} \\sigma_{w3} w \\left(\\theta_{l1} \\alpha \\left(1 - \\delta\\right) + \\theta_{l2} \\cdot \\left(1 - \\alpha\\right) \\left(1 - \\delta\\right) + \\delta \\left(\\theta_{l1} \\alpha + \\theta_{l2} \\cdot \\left(1 - \\alpha\\right)\\right)\\right) - 2 \\rho_{w\\theta_l} \\sigma_{\\theta_l 3} \\sigma_{w3} \\left(\\theta_{l1} \\alpha \\left(1 - \\delta\\right) + \\theta_{l2} \\cdot \\left(1 - \\alpha\\right) \\left(1 - \\delta\\right) + \\delta \\left(\\theta_{l1} \\alpha + \\theta_{l2} \\cdot \\left(1 - \\alpha\\right)\\right)\\right) \\left(\\alpha w_{1} \\cdot \\left(1 - \\delta\\right) + \\delta \\left(\\alpha w_{1} + w_{2} \\cdot \\left(1 - \\alpha\\right)\\right) + w_{2} \\cdot \\left(1 - \\alpha\\right) \\left(1 - \\delta\\right)\\right) + \\sigma_{\\theta_l 3}^{2} w^{2} - 2 \\sigma_{\\theta_l 3}^{2} w \\left(\\alpha w_{1} \\cdot \\left(1 - \\delta\\right) + \\delta \\left(\\alpha w_{1} + w_{2} \\cdot \\left(1 - \\alpha\\right)\\right) + w_{2} \\cdot \\left(1 - \\alpha\\right) \\left(1 - \\delta\\right)\\right) + \\sigma_{\\theta_l 3}^{2} \\left(\\alpha w_{1} \\cdot \\left(1 - \\delta\\right) + \\delta \\left(\\alpha w_{1} + w_{2} \\cdot \\left(1 - \\alpha\\right)\\right) + w_{2} \\cdot \\left(1 - \\alpha\\right) \\left(1 - \\delta\\right)\\right)^{2} + \\sigma_{w3}^{2} \\theta^{2} - 2 \\sigma_{w3}^{2} \\theta \\left(\\theta_{l1} \\alpha \\left(1 - \\delta\\right) + \\theta_{l2} \\cdot \\left(1 - \\alpha\\right) \\left(1 - \\delta\\right) + \\delta \\left(\\theta_{l1} \\alpha + \\theta_{l2} \\cdot \\left(1 - \\alpha\\right)\\right)\\right) + \\sigma_{w3}^{2} \\left(\\theta_{l1} \\alpha \\left(1 - \\delta\\right) + \\theta_{l2} \\cdot \\left(1 - \\alpha\\right) \\left(1 - \\delta\\right) + \\delta \\left(\\theta_{l1} \\alpha + \\theta_{l2} \\cdot \\left(1 - \\alpha\\right)\\right)\\right)^{2}}{2 \\sigma_{\\theta_l 3}^{2} \\sigma_{w3}^{2} \\left(\\rho_{w\\theta_l} - 1\\right) \\left(\\rho_{w\\theta_l} + 1\\right)}}}{2 \\pi \\sqrt{\\sigma_{\\theta_l 3}^{2} \\sigma_{w3}^{2} \\cdot \\left(1 - \\rho_{w\\theta_l}^{2}\\right)}} + \\frac{\\left(1 - \\alpha\\right) \\left(1 - \\delta\\right) e^{- \\frac{\\sigma_{w}^{2} \\theta_{l2}^{2} - 2 \\sigma_{w}^{2} \\theta_{l2} \\theta + \\sigma_{w}^{2} \\theta^{2} + \\sigma_{\\theta_{l2}}^{2} w^{2} - 2 \\sigma_{\\theta_{l2}}^{2} w w_{2} + \\sigma_{\\theta_{l2}}^{2} w_{2}^{2}}{2 \\sigma_{w}^{2} \\sigma_{\\theta_{l2}}^{2}}}}{2 \\pi \\sqrt{\\sigma_{w}^{2} \\sigma_{\\theta_{l2}}^{2}}}\\right) \\left(- \\theta_{l1} \\alpha \\left(1 - \\delta\\right) - \\theta_{l2} \\cdot \\left(1 - \\alpha\\right) \\left(1 - \\delta\\right) - \\delta \\left(\\theta_{l1} \\alpha + \\theta_{l2} \\cdot \\left(1 - \\alpha\\right)\\right) + \\theta\\right) \\left(- \\alpha w_{1} \\cdot \\left(1 - \\delta\\right) - \\delta \\left(\\alpha w_{1} + w_{2} \\cdot \\left(1 - \\alpha\\right)\\right) + w - w_{2} \\cdot \\left(1 - \\alpha\\right) \\left(1 - \\delta\\right)\\right)\\, dw\\, d\\theta$"
     },
     "metadata": {},
     "output_type": "display_data"
    }
   ],
   "execution_count": 7
  },
  {
   "cell_type": "markdown",
   "source": [
    "The equation in the document is:"
   ],
   "metadata": {
    "collapsed": false
   },
   "id": "11877268ff87d5a9"
  },
  {
   "cell_type": "code",
   "source": [
    "display(sp.Eq(sym.w_prime_theta_l_prime_bar,\n",
    "              c_f.w_prime_theta_l_prime_bar()))"
   ],
   "metadata": {
    "collapsed": false,
    "ExecuteTime": {
     "end_time": "2024-05-03T15:47:41.088329Z",
     "start_time": "2024-05-03T15:47:41.075115Z"
    }
   },
   "id": "32e128a2cd50dc3f",
   "outputs": [
    {
     "data": {
      "text/plain": [
       "Eq(\\overline{w'\\theta'_l}, \\rho_{w\\theta_l}*\\sigma_{\\theta_l 3}*\\sigma_{w3}*delta + alpha*(1 - delta)*(-\\overline{\\theta_l} + \\theta_{l1})*(-\\overline{w} + w_1) + (1 - alpha)*(1 - delta)*(-\\overline{\\theta_l} + \\theta_{l2})*(-\\overline{w} + w_2))"
      ],
      "text/latex": "$\\displaystyle \\overline{w'\\theta'_l} = \\rho_{w\\theta_l} \\sigma_{\\theta_l 3} \\sigma_{w3} \\delta + \\alpha \\left(1 - \\delta\\right) \\left(- \\overline{\\theta_l} + \\theta_{l1}\\right) \\left(- \\overline{w} + w_{1}\\right) + \\left(1 - \\alpha\\right) \\left(1 - \\delta\\right) \\left(- \\overline{\\theta_l} + \\theta_{l2}\\right) \\left(- \\overline{w} + w_{2}\\right)$"
     },
     "metadata": {},
     "output_type": "display_data"
    }
   ],
   "execution_count": 8
  },
  {
   "cell_type": "markdown",
   "source": [
    "With the values for the means substituted in:"
   ],
   "metadata": {
    "collapsed": false
   },
   "id": "2448f1e1bcb71207"
  },
  {
   "cell_type": "code",
   "source": [
    "w_prime_theta_l_prime_bar_check_val = (\n",
    "    c_f.w_prime_theta_l_prime_bar().subs({\n",
    "        sym.w_bar: c_f.w_bar(),\n",
    "        sym.theta_l_bar: c_f.theta_l_bar()\n",
    "    })\n",
    ")\n",
    "display(sp.Eq(sym.w_prime_theta_l_prime_bar,\n",
    "              w_prime_theta_l_prime_bar_check_val))"
   ],
   "metadata": {
    "collapsed": false,
    "ExecuteTime": {
     "end_time": "2024-05-03T15:47:41.111981Z",
     "start_time": "2024-05-03T15:47:41.090337Z"
    }
   },
   "id": "e303e53b0ec1bd04",
   "outputs": [
    {
     "data": {
      "text/plain": [
       "Eq(\\overline{w'\\theta'_l}, \\rho_{w\\theta_l}*\\sigma_{\\theta_l 3}*\\sigma_{w3}*delta + alpha*(1 - delta)*(-\\theta_{l1}*alpha*(1 - delta) + \\theta_{l1} - \\theta_{l2}*(1 - alpha)*(1 - delta) - delta*(\\theta_{l1}*alpha + \\theta_{l2}*(1 - alpha)))*(-alpha*w_1*(1 - delta) - delta*(alpha*w_1 + w_2*(1 - alpha)) + w_1 - w_2*(1 - alpha)*(1 - delta)) + (1 - alpha)*(1 - delta)*(-\\theta_{l1}*alpha*(1 - delta) - \\theta_{l2}*(1 - alpha)*(1 - delta) + \\theta_{l2} - delta*(\\theta_{l1}*alpha + \\theta_{l2}*(1 - alpha)))*(-alpha*w_1*(1 - delta) - delta*(alpha*w_1 + w_2*(1 - alpha)) - w_2*(1 - alpha)*(1 - delta) + w_2))"
      ],
      "text/latex": "$\\displaystyle \\overline{w'\\theta'_l} = \\rho_{w\\theta_l} \\sigma_{\\theta_l 3} \\sigma_{w3} \\delta + \\alpha \\left(1 - \\delta\\right) \\left(- \\theta_{l1} \\alpha \\left(1 - \\delta\\right) + \\theta_{l1} - \\theta_{l2} \\cdot \\left(1 - \\alpha\\right) \\left(1 - \\delta\\right) - \\delta \\left(\\theta_{l1} \\alpha + \\theta_{l2} \\cdot \\left(1 - \\alpha\\right)\\right)\\right) \\left(- \\alpha w_{1} \\cdot \\left(1 - \\delta\\right) - \\delta \\left(\\alpha w_{1} + w_{2} \\cdot \\left(1 - \\alpha\\right)\\right) + w_{1} - w_{2} \\cdot \\left(1 - \\alpha\\right) \\left(1 - \\delta\\right)\\right) + \\left(1 - \\alpha\\right) \\left(1 - \\delta\\right) \\left(- \\theta_{l1} \\alpha \\left(1 - \\delta\\right) - \\theta_{l2} \\cdot \\left(1 - \\alpha\\right) \\left(1 - \\delta\\right) + \\theta_{l2} - \\delta \\left(\\theta_{l1} \\alpha + \\theta_{l2} \\cdot \\left(1 - \\alpha\\right)\\right)\\right) \\left(- \\alpha w_{1} \\cdot \\left(1 - \\delta\\right) - \\delta \\left(\\alpha w_{1} + w_{2} \\cdot \\left(1 - \\alpha\\right)\\right) - w_{2} \\cdot \\left(1 - \\alpha\\right) \\left(1 - \\delta\\right) + w_{2}\\right)$"
     },
     "metadata": {},
     "output_type": "display_data"
    }
   ],
   "execution_count": 9
  },
  {
   "cell_type": "markdown",
   "source": [
    "Since the integral is too difficult to be calculated analytically, at least with sympy, we try to put in some arbitrary numbers for the pdf parameters, to simplify the equations."
   ],
   "metadata": {
    "collapsed": false
   },
   "id": "39d114fd1c745a73"
  },
  {
   "cell_type": "markdown",
   "source": [
    "We create a dataframe to get all possible permutations and therefore also all possible evaluations of the integrals."
   ],
   "metadata": {
    "collapsed": false
   },
   "id": "dfd3a0ce1366dd65"
  },
  {
   "cell_type": "code",
   "source": [
    "df = pd.DataFrame(\n",
    "    product([0, 1],\n",
    "            [-2, 2],\n",
    "            [-1, 2],\n",
    "            [0, 3],\n",
    "            [Rational(1, 10)],\n",
    "            [Rational(3, 10)],\n",
    "            [Rational(4, 10)],\n",
    "            [Rational(7, 10)],\n",
    "            [Rational(6, 10)],\n",
    "            [Rational(5, 10)],\n",
    "            [Rational(1, 10), Rational(5, 10)],\n",
    "            [Rational(5, 10)]),\n",
    "    columns=[sym.w_1,\n",
    "             sym.w_2,\n",
    "             sym.theta_l_1,\n",
    "             sym.theta_l_2,\n",
    "             sym.sigma_theta_l_1,\n",
    "             sym.sigma_theta_l_2,\n",
    "             sym.sigma_theta_l_3,\n",
    "             sym.sigma_w,\n",
    "             sym.sigma_w_3,\n",
    "             sp.abc.alpha,\n",
    "             sp.abc.delta,\n",
    "             sym.rho_w_theta_l])"
   ],
   "metadata": {
    "collapsed": false,
    "ExecuteTime": {
     "end_time": "2024-05-03T15:47:41.119490Z",
     "start_time": "2024-05-03T15:47:41.111981Z"
    }
   },
   "id": "3ee46b30522ed325",
   "outputs": [],
   "execution_count": 10
  },
  {
   "cell_type": "code",
   "source": [
    "df['check_val'] = (\n",
    "    df.apply(lambda x:\n",
    "             w_prime_theta_l_prime_bar_check_val.subs({\n",
    "                 sym.w_1: x[sym.w_1],\n",
    "                 sym.w_2: x[sym.w_2],\n",
    "                 sym.theta_l_1: x[sym.theta_l_1],\n",
    "                 sym.theta_l_2: x[sym.theta_l_2],\n",
    "                 sym.sigma_theta_l_1: x[sym.sigma_theta_l_1],\n",
    "                 sym.sigma_theta_l_2: x[sym.sigma_theta_l_2],\n",
    "                 sym.sigma_theta_l_3: x[sym.sigma_theta_l_3],\n",
    "                 sym.sigma_w: x[sym.sigma_w],\n",
    "                 sym.sigma_w_3: x[sym.sigma_w_3],\n",
    "                 sp.abc.alpha: x[sp.abc.alpha],\n",
    "                 sp.abc.delta: x[sp.abc.delta],\n",
    "                 sym.rho_w_theta_l: x[sym.rho_w_theta_l]\n",
    "             }).evalf(), axis=1))"
   ],
   "metadata": {
    "collapsed": false,
    "ExecuteTime": {
     "end_time": "2024-05-03T15:47:41.170181Z",
     "start_time": "2024-05-03T15:47:41.119490Z"
    }
   },
   "id": "eab9c393a7940701",
   "outputs": [],
   "execution_count": 11
  },
  {
   "cell_type": "markdown",
   "source": [
    "Calculate the moment numerically:"
   ],
   "metadata": {
    "collapsed": false
   },
   "id": "16a892f9b9e10dac"
  },
  {
   "cell_type": "code",
   "source": [
    "df['num_int'] = (\n",
    "    df.apply(lambda x: w_prime_theta_l_prime_bar.subs({\n",
    "        sym.w_1: x[sym.w_1],\n",
    "        sym.w_2: x[sym.w_2],\n",
    "        sym.theta_l_1: x[sym.theta_l_1],\n",
    "        sym.theta_l_2: x[sym.theta_l_2],\n",
    "        sym.sigma_theta_l_1: x[sym.sigma_theta_l_1],\n",
    "        sym.sigma_theta_l_2: x[sym.sigma_theta_l_2],\n",
    "        sym.sigma_theta_l_3: x[sym.sigma_theta_l_3],\n",
    "        sym.sigma_w: x[sym.sigma_w],\n",
    "        sym.sigma_w_3: x[sym.sigma_w_3],\n",
    "        sp.abc.alpha: x[sp.abc.alpha],\n",
    "        sp.abc.delta: x[sp.abc.delta],\n",
    "        sym.rho_w_theta_l: x[sym.rho_w_theta_l]\n",
    "    }).doit(conds='none', method='quad').evalf(), axis=1))"
   ],
   "metadata": {
    "collapsed": false,
    "ExecuteTime": {
     "end_time": "2024-05-03T15:56:11.113421Z",
     "start_time": "2024-05-03T15:47:41.171188Z"
    }
   },
   "id": "1aefbcee0a30f883",
   "outputs": [],
   "execution_count": 12
  },
  {
   "cell_type": "code",
   "source": [
    "df['diff'] = abs(df['check_val'] - df['num_int'])"
   ],
   "metadata": {
    "collapsed": false,
    "ExecuteTime": {
     "end_time": "2024-05-03T15:56:11.119274Z",
     "start_time": "2024-05-03T15:56:11.113421Z"
    }
   },
   "id": "18bec722afccb3e2",
   "outputs": [],
   "execution_count": 13
  },
  {
   "cell_type": "code",
   "source": [
    "df['diff_num'] = abs(df['check_val'].astype(float) - df['num_int'].astype(float))"
   ],
   "metadata": {
    "collapsed": false,
    "ExecuteTime": {
     "end_time": "2024-05-03T15:56:11.128039Z",
     "start_time": "2024-05-03T15:56:11.120892Z"
    }
   },
   "id": "531eb7db0d988521",
   "outputs": [],
   "execution_count": 14
  },
  {
   "cell_type": "code",
   "source": [
    "display(df)"
   ],
   "metadata": {
    "collapsed": false,
    "ExecuteTime": {
     "end_time": "2024-05-03T15:56:11.148977Z",
     "start_time": "2024-05-03T15:56:11.128039Z"
    }
   },
   "id": "db0dc21513dbb6bc",
   "outputs": [
    {
     "data": {
      "text/plain": [
       "    w_1  w_2  \\theta_{l1}  \\theta_{l2} \\sigma_{\\theta_{l1}}  \\\n",
       "0     0   -2           -1            0                 1/10   \n",
       "1     0   -2           -1            0                 1/10   \n",
       "2     0   -2           -1            3                 1/10   \n",
       "3     0   -2           -1            3                 1/10   \n",
       "4     0   -2            2            0                 1/10   \n",
       "5     0   -2            2            0                 1/10   \n",
       "6     0   -2            2            3                 1/10   \n",
       "7     0   -2            2            3                 1/10   \n",
       "8     0    2           -1            0                 1/10   \n",
       "9     0    2           -1            0                 1/10   \n",
       "10    0    2           -1            3                 1/10   \n",
       "11    0    2           -1            3                 1/10   \n",
       "12    0    2            2            0                 1/10   \n",
       "13    0    2            2            0                 1/10   \n",
       "14    0    2            2            3                 1/10   \n",
       "15    0    2            2            3                 1/10   \n",
       "16    1   -2           -1            0                 1/10   \n",
       "17    1   -2           -1            0                 1/10   \n",
       "18    1   -2           -1            3                 1/10   \n",
       "19    1   -2           -1            3                 1/10   \n",
       "20    1   -2            2            0                 1/10   \n",
       "21    1   -2            2            0                 1/10   \n",
       "22    1   -2            2            3                 1/10   \n",
       "23    1   -2            2            3                 1/10   \n",
       "24    1    2           -1            0                 1/10   \n",
       "25    1    2           -1            0                 1/10   \n",
       "26    1    2           -1            3                 1/10   \n",
       "27    1    2           -1            3                 1/10   \n",
       "28    1    2            2            0                 1/10   \n",
       "29    1    2            2            0                 1/10   \n",
       "30    1    2            2            3                 1/10   \n",
       "31    1    2            2            3                 1/10   \n",
       "\n",
       "   \\sigma_{\\theta_{l2}} \\sigma_{\\theta_l 3} \\sigma_w \\sigma_{w3} alpha delta  \\\n",
       "0                  3/10                 2/5     7/10         3/5   1/2  1/10   \n",
       "1                  3/10                 2/5     7/10         3/5   1/2   1/2   \n",
       "2                  3/10                 2/5     7/10         3/5   1/2  1/10   \n",
       "3                  3/10                 2/5     7/10         3/5   1/2   1/2   \n",
       "4                  3/10                 2/5     7/10         3/5   1/2  1/10   \n",
       "5                  3/10                 2/5     7/10         3/5   1/2   1/2   \n",
       "6                  3/10                 2/5     7/10         3/5   1/2  1/10   \n",
       "7                  3/10                 2/5     7/10         3/5   1/2   1/2   \n",
       "8                  3/10                 2/5     7/10         3/5   1/2  1/10   \n",
       "9                  3/10                 2/5     7/10         3/5   1/2   1/2   \n",
       "10                 3/10                 2/5     7/10         3/5   1/2  1/10   \n",
       "11                 3/10                 2/5     7/10         3/5   1/2   1/2   \n",
       "12                 3/10                 2/5     7/10         3/5   1/2  1/10   \n",
       "13                 3/10                 2/5     7/10         3/5   1/2   1/2   \n",
       "14                 3/10                 2/5     7/10         3/5   1/2  1/10   \n",
       "15                 3/10                 2/5     7/10         3/5   1/2   1/2   \n",
       "16                 3/10                 2/5     7/10         3/5   1/2  1/10   \n",
       "17                 3/10                 2/5     7/10         3/5   1/2   1/2   \n",
       "18                 3/10                 2/5     7/10         3/5   1/2  1/10   \n",
       "19                 3/10                 2/5     7/10         3/5   1/2   1/2   \n",
       "20                 3/10                 2/5     7/10         3/5   1/2  1/10   \n",
       "21                 3/10                 2/5     7/10         3/5   1/2   1/2   \n",
       "22                 3/10                 2/5     7/10         3/5   1/2  1/10   \n",
       "23                 3/10                 2/5     7/10         3/5   1/2   1/2   \n",
       "24                 3/10                 2/5     7/10         3/5   1/2  1/10   \n",
       "25                 3/10                 2/5     7/10         3/5   1/2   1/2   \n",
       "26                 3/10                 2/5     7/10         3/5   1/2  1/10   \n",
       "27                 3/10                 2/5     7/10         3/5   1/2   1/2   \n",
       "28                 3/10                 2/5     7/10         3/5   1/2  1/10   \n",
       "29                 3/10                 2/5     7/10         3/5   1/2   1/2   \n",
       "30                 3/10                 2/5     7/10         3/5   1/2  1/10   \n",
       "31                 3/10                 2/5     7/10         3/5   1/2   1/2   \n",
       "\n",
       "   \\rho_{w\\theta_l}           check_val             num_int diff  diff_num  \n",
       "0               1/2  -0.438000000000000  -0.438000000000000    0       0.0  \n",
       "1               1/2  -0.190000000000000  -0.190000000000000    0       0.0  \n",
       "2               1/2   -1.78800000000000   -1.78800000000000    0       0.0  \n",
       "3               1/2  -0.940000000000000  -0.940000000000000    0       0.0  \n",
       "4               1/2   0.912000000000000   0.912000000000000    0       0.0  \n",
       "5               1/2   0.560000000000000   0.560000000000000    0       0.0  \n",
       "6               1/2  -0.438000000000000  -0.438000000000000    0       0.0  \n",
       "7               1/2  -0.190000000000000  -0.190000000000000    0       0.0  \n",
       "8               1/2   0.462000000000000   0.462000000000000    0       0.0  \n",
       "9               1/2   0.310000000000000   0.310000000000000    0       0.0  \n",
       "10              1/2    1.81200000000000    1.81200000000000    0       0.0  \n",
       "11              1/2    1.06000000000000    1.06000000000000    0       0.0  \n",
       "12              1/2  -0.888000000000000  -0.888000000000000    0       0.0  \n",
       "13              1/2  -0.440000000000000  -0.440000000000000    0       0.0  \n",
       "14              1/2   0.462000000000000   0.462000000000000    0       0.0  \n",
       "15              1/2   0.310000000000000   0.310000000000000    0       0.0  \n",
       "16              1/2  -0.663000000000000  -0.663000000000000    0       0.0  \n",
       "17              1/2  -0.315000000000000  -0.315000000000000    0       0.0  \n",
       "18              1/2   -2.68800000000000   -2.68800000000000    0       0.0  \n",
       "19              1/2   -1.44000000000000   -1.44000000000000    0       0.0  \n",
       "20              1/2    1.36200000000000    1.36200000000000    0       0.0  \n",
       "21              1/2   0.810000000000000   0.810000000000000    0       0.0  \n",
       "22              1/2  -0.663000000000000  -0.663000000000000    0       0.0  \n",
       "23              1/2  -0.315000000000000  -0.315000000000000    0       0.0  \n",
       "24              1/2   0.237000000000000   0.237000000000000    0       0.0  \n",
       "25              1/2   0.185000000000000   0.185000000000000    0       0.0  \n",
       "26              1/2   0.912000000000000   0.912000000000000    0       0.0  \n",
       "27              1/2   0.560000000000000   0.560000000000000    0       0.0  \n",
       "28              1/2  -0.438000000000000  -0.438000000000000    0       0.0  \n",
       "29              1/2  -0.190000000000000  -0.190000000000000    0       0.0  \n",
       "30              1/2   0.237000000000000   0.237000000000000    0       0.0  \n",
       "31              1/2   0.185000000000000   0.185000000000000    0       0.0  "
      ],
      "text/html": [
       "<div>\n",
       "<style scoped>\n",
       "    .dataframe tbody tr th:only-of-type {\n",
       "        vertical-align: middle;\n",
       "    }\n",
       "\n",
       "    .dataframe tbody tr th {\n",
       "        vertical-align: top;\n",
       "    }\n",
       "\n",
       "    .dataframe thead th {\n",
       "        text-align: right;\n",
       "    }\n",
       "</style>\n",
       "<table border=\"1\" class=\"dataframe\">\n",
       "  <thead>\n",
       "    <tr style=\"text-align: right;\">\n",
       "      <th></th>\n",
       "      <th>w_1</th>\n",
       "      <th>w_2</th>\n",
       "      <th>\\theta_{l1}</th>\n",
       "      <th>\\theta_{l2}</th>\n",
       "      <th>\\sigma_{\\theta_{l1}}</th>\n",
       "      <th>\\sigma_{\\theta_{l2}}</th>\n",
       "      <th>\\sigma_{\\theta_l 3}</th>\n",
       "      <th>\\sigma_w</th>\n",
       "      <th>\\sigma_{w3}</th>\n",
       "      <th>alpha</th>\n",
       "      <th>delta</th>\n",
       "      <th>\\rho_{w\\theta_l}</th>\n",
       "      <th>check_val</th>\n",
       "      <th>num_int</th>\n",
       "      <th>diff</th>\n",
       "      <th>diff_num</th>\n",
       "    </tr>\n",
       "  </thead>\n",
       "  <tbody>\n",
       "    <tr>\n",
       "      <th>0</th>\n",
       "      <td>0</td>\n",
       "      <td>-2</td>\n",
       "      <td>-1</td>\n",
       "      <td>0</td>\n",
       "      <td>1/10</td>\n",
       "      <td>3/10</td>\n",
       "      <td>2/5</td>\n",
       "      <td>7/10</td>\n",
       "      <td>3/5</td>\n",
       "      <td>1/2</td>\n",
       "      <td>1/10</td>\n",
       "      <td>1/2</td>\n",
       "      <td>-0.438000000000000</td>\n",
       "      <td>-0.438000000000000</td>\n",
       "      <td>0</td>\n",
       "      <td>0.0</td>\n",
       "    </tr>\n",
       "    <tr>\n",
       "      <th>1</th>\n",
       "      <td>0</td>\n",
       "      <td>-2</td>\n",
       "      <td>-1</td>\n",
       "      <td>0</td>\n",
       "      <td>1/10</td>\n",
       "      <td>3/10</td>\n",
       "      <td>2/5</td>\n",
       "      <td>7/10</td>\n",
       "      <td>3/5</td>\n",
       "      <td>1/2</td>\n",
       "      <td>1/2</td>\n",
       "      <td>1/2</td>\n",
       "      <td>-0.190000000000000</td>\n",
       "      <td>-0.190000000000000</td>\n",
       "      <td>0</td>\n",
       "      <td>0.0</td>\n",
       "    </tr>\n",
       "    <tr>\n",
       "      <th>2</th>\n",
       "      <td>0</td>\n",
       "      <td>-2</td>\n",
       "      <td>-1</td>\n",
       "      <td>3</td>\n",
       "      <td>1/10</td>\n",
       "      <td>3/10</td>\n",
       "      <td>2/5</td>\n",
       "      <td>7/10</td>\n",
       "      <td>3/5</td>\n",
       "      <td>1/2</td>\n",
       "      <td>1/10</td>\n",
       "      <td>1/2</td>\n",
       "      <td>-1.78800000000000</td>\n",
       "      <td>-1.78800000000000</td>\n",
       "      <td>0</td>\n",
       "      <td>0.0</td>\n",
       "    </tr>\n",
       "    <tr>\n",
       "      <th>3</th>\n",
       "      <td>0</td>\n",
       "      <td>-2</td>\n",
       "      <td>-1</td>\n",
       "      <td>3</td>\n",
       "      <td>1/10</td>\n",
       "      <td>3/10</td>\n",
       "      <td>2/5</td>\n",
       "      <td>7/10</td>\n",
       "      <td>3/5</td>\n",
       "      <td>1/2</td>\n",
       "      <td>1/2</td>\n",
       "      <td>1/2</td>\n",
       "      <td>-0.940000000000000</td>\n",
       "      <td>-0.940000000000000</td>\n",
       "      <td>0</td>\n",
       "      <td>0.0</td>\n",
       "    </tr>\n",
       "    <tr>\n",
       "      <th>4</th>\n",
       "      <td>0</td>\n",
       "      <td>-2</td>\n",
       "      <td>2</td>\n",
       "      <td>0</td>\n",
       "      <td>1/10</td>\n",
       "      <td>3/10</td>\n",
       "      <td>2/5</td>\n",
       "      <td>7/10</td>\n",
       "      <td>3/5</td>\n",
       "      <td>1/2</td>\n",
       "      <td>1/10</td>\n",
       "      <td>1/2</td>\n",
       "      <td>0.912000000000000</td>\n",
       "      <td>0.912000000000000</td>\n",
       "      <td>0</td>\n",
       "      <td>0.0</td>\n",
       "    </tr>\n",
       "    <tr>\n",
       "      <th>5</th>\n",
       "      <td>0</td>\n",
       "      <td>-2</td>\n",
       "      <td>2</td>\n",
       "      <td>0</td>\n",
       "      <td>1/10</td>\n",
       "      <td>3/10</td>\n",
       "      <td>2/5</td>\n",
       "      <td>7/10</td>\n",
       "      <td>3/5</td>\n",
       "      <td>1/2</td>\n",
       "      <td>1/2</td>\n",
       "      <td>1/2</td>\n",
       "      <td>0.560000000000000</td>\n",
       "      <td>0.560000000000000</td>\n",
       "      <td>0</td>\n",
       "      <td>0.0</td>\n",
       "    </tr>\n",
       "    <tr>\n",
       "      <th>6</th>\n",
       "      <td>0</td>\n",
       "      <td>-2</td>\n",
       "      <td>2</td>\n",
       "      <td>3</td>\n",
       "      <td>1/10</td>\n",
       "      <td>3/10</td>\n",
       "      <td>2/5</td>\n",
       "      <td>7/10</td>\n",
       "      <td>3/5</td>\n",
       "      <td>1/2</td>\n",
       "      <td>1/10</td>\n",
       "      <td>1/2</td>\n",
       "      <td>-0.438000000000000</td>\n",
       "      <td>-0.438000000000000</td>\n",
       "      <td>0</td>\n",
       "      <td>0.0</td>\n",
       "    </tr>\n",
       "    <tr>\n",
       "      <th>7</th>\n",
       "      <td>0</td>\n",
       "      <td>-2</td>\n",
       "      <td>2</td>\n",
       "      <td>3</td>\n",
       "      <td>1/10</td>\n",
       "      <td>3/10</td>\n",
       "      <td>2/5</td>\n",
       "      <td>7/10</td>\n",
       "      <td>3/5</td>\n",
       "      <td>1/2</td>\n",
       "      <td>1/2</td>\n",
       "      <td>1/2</td>\n",
       "      <td>-0.190000000000000</td>\n",
       "      <td>-0.190000000000000</td>\n",
       "      <td>0</td>\n",
       "      <td>0.0</td>\n",
       "    </tr>\n",
       "    <tr>\n",
       "      <th>8</th>\n",
       "      <td>0</td>\n",
       "      <td>2</td>\n",
       "      <td>-1</td>\n",
       "      <td>0</td>\n",
       "      <td>1/10</td>\n",
       "      <td>3/10</td>\n",
       "      <td>2/5</td>\n",
       "      <td>7/10</td>\n",
       "      <td>3/5</td>\n",
       "      <td>1/2</td>\n",
       "      <td>1/10</td>\n",
       "      <td>1/2</td>\n",
       "      <td>0.462000000000000</td>\n",
       "      <td>0.462000000000000</td>\n",
       "      <td>0</td>\n",
       "      <td>0.0</td>\n",
       "    </tr>\n",
       "    <tr>\n",
       "      <th>9</th>\n",
       "      <td>0</td>\n",
       "      <td>2</td>\n",
       "      <td>-1</td>\n",
       "      <td>0</td>\n",
       "      <td>1/10</td>\n",
       "      <td>3/10</td>\n",
       "      <td>2/5</td>\n",
       "      <td>7/10</td>\n",
       "      <td>3/5</td>\n",
       "      <td>1/2</td>\n",
       "      <td>1/2</td>\n",
       "      <td>1/2</td>\n",
       "      <td>0.310000000000000</td>\n",
       "      <td>0.310000000000000</td>\n",
       "      <td>0</td>\n",
       "      <td>0.0</td>\n",
       "    </tr>\n",
       "    <tr>\n",
       "      <th>10</th>\n",
       "      <td>0</td>\n",
       "      <td>2</td>\n",
       "      <td>-1</td>\n",
       "      <td>3</td>\n",
       "      <td>1/10</td>\n",
       "      <td>3/10</td>\n",
       "      <td>2/5</td>\n",
       "      <td>7/10</td>\n",
       "      <td>3/5</td>\n",
       "      <td>1/2</td>\n",
       "      <td>1/10</td>\n",
       "      <td>1/2</td>\n",
       "      <td>1.81200000000000</td>\n",
       "      <td>1.81200000000000</td>\n",
       "      <td>0</td>\n",
       "      <td>0.0</td>\n",
       "    </tr>\n",
       "    <tr>\n",
       "      <th>11</th>\n",
       "      <td>0</td>\n",
       "      <td>2</td>\n",
       "      <td>-1</td>\n",
       "      <td>3</td>\n",
       "      <td>1/10</td>\n",
       "      <td>3/10</td>\n",
       "      <td>2/5</td>\n",
       "      <td>7/10</td>\n",
       "      <td>3/5</td>\n",
       "      <td>1/2</td>\n",
       "      <td>1/2</td>\n",
       "      <td>1/2</td>\n",
       "      <td>1.06000000000000</td>\n",
       "      <td>1.06000000000000</td>\n",
       "      <td>0</td>\n",
       "      <td>0.0</td>\n",
       "    </tr>\n",
       "    <tr>\n",
       "      <th>12</th>\n",
       "      <td>0</td>\n",
       "      <td>2</td>\n",
       "      <td>2</td>\n",
       "      <td>0</td>\n",
       "      <td>1/10</td>\n",
       "      <td>3/10</td>\n",
       "      <td>2/5</td>\n",
       "      <td>7/10</td>\n",
       "      <td>3/5</td>\n",
       "      <td>1/2</td>\n",
       "      <td>1/10</td>\n",
       "      <td>1/2</td>\n",
       "      <td>-0.888000000000000</td>\n",
       "      <td>-0.888000000000000</td>\n",
       "      <td>0</td>\n",
       "      <td>0.0</td>\n",
       "    </tr>\n",
       "    <tr>\n",
       "      <th>13</th>\n",
       "      <td>0</td>\n",
       "      <td>2</td>\n",
       "      <td>2</td>\n",
       "      <td>0</td>\n",
       "      <td>1/10</td>\n",
       "      <td>3/10</td>\n",
       "      <td>2/5</td>\n",
       "      <td>7/10</td>\n",
       "      <td>3/5</td>\n",
       "      <td>1/2</td>\n",
       "      <td>1/2</td>\n",
       "      <td>1/2</td>\n",
       "      <td>-0.440000000000000</td>\n",
       "      <td>-0.440000000000000</td>\n",
       "      <td>0</td>\n",
       "      <td>0.0</td>\n",
       "    </tr>\n",
       "    <tr>\n",
       "      <th>14</th>\n",
       "      <td>0</td>\n",
       "      <td>2</td>\n",
       "      <td>2</td>\n",
       "      <td>3</td>\n",
       "      <td>1/10</td>\n",
       "      <td>3/10</td>\n",
       "      <td>2/5</td>\n",
       "      <td>7/10</td>\n",
       "      <td>3/5</td>\n",
       "      <td>1/2</td>\n",
       "      <td>1/10</td>\n",
       "      <td>1/2</td>\n",
       "      <td>0.462000000000000</td>\n",
       "      <td>0.462000000000000</td>\n",
       "      <td>0</td>\n",
       "      <td>0.0</td>\n",
       "    </tr>\n",
       "    <tr>\n",
       "      <th>15</th>\n",
       "      <td>0</td>\n",
       "      <td>2</td>\n",
       "      <td>2</td>\n",
       "      <td>3</td>\n",
       "      <td>1/10</td>\n",
       "      <td>3/10</td>\n",
       "      <td>2/5</td>\n",
       "      <td>7/10</td>\n",
       "      <td>3/5</td>\n",
       "      <td>1/2</td>\n",
       "      <td>1/2</td>\n",
       "      <td>1/2</td>\n",
       "      <td>0.310000000000000</td>\n",
       "      <td>0.310000000000000</td>\n",
       "      <td>0</td>\n",
       "      <td>0.0</td>\n",
       "    </tr>\n",
       "    <tr>\n",
       "      <th>16</th>\n",
       "      <td>1</td>\n",
       "      <td>-2</td>\n",
       "      <td>-1</td>\n",
       "      <td>0</td>\n",
       "      <td>1/10</td>\n",
       "      <td>3/10</td>\n",
       "      <td>2/5</td>\n",
       "      <td>7/10</td>\n",
       "      <td>3/5</td>\n",
       "      <td>1/2</td>\n",
       "      <td>1/10</td>\n",
       "      <td>1/2</td>\n",
       "      <td>-0.663000000000000</td>\n",
       "      <td>-0.663000000000000</td>\n",
       "      <td>0</td>\n",
       "      <td>0.0</td>\n",
       "    </tr>\n",
       "    <tr>\n",
       "      <th>17</th>\n",
       "      <td>1</td>\n",
       "      <td>-2</td>\n",
       "      <td>-1</td>\n",
       "      <td>0</td>\n",
       "      <td>1/10</td>\n",
       "      <td>3/10</td>\n",
       "      <td>2/5</td>\n",
       "      <td>7/10</td>\n",
       "      <td>3/5</td>\n",
       "      <td>1/2</td>\n",
       "      <td>1/2</td>\n",
       "      <td>1/2</td>\n",
       "      <td>-0.315000000000000</td>\n",
       "      <td>-0.315000000000000</td>\n",
       "      <td>0</td>\n",
       "      <td>0.0</td>\n",
       "    </tr>\n",
       "    <tr>\n",
       "      <th>18</th>\n",
       "      <td>1</td>\n",
       "      <td>-2</td>\n",
       "      <td>-1</td>\n",
       "      <td>3</td>\n",
       "      <td>1/10</td>\n",
       "      <td>3/10</td>\n",
       "      <td>2/5</td>\n",
       "      <td>7/10</td>\n",
       "      <td>3/5</td>\n",
       "      <td>1/2</td>\n",
       "      <td>1/10</td>\n",
       "      <td>1/2</td>\n",
       "      <td>-2.68800000000000</td>\n",
       "      <td>-2.68800000000000</td>\n",
       "      <td>0</td>\n",
       "      <td>0.0</td>\n",
       "    </tr>\n",
       "    <tr>\n",
       "      <th>19</th>\n",
       "      <td>1</td>\n",
       "      <td>-2</td>\n",
       "      <td>-1</td>\n",
       "      <td>3</td>\n",
       "      <td>1/10</td>\n",
       "      <td>3/10</td>\n",
       "      <td>2/5</td>\n",
       "      <td>7/10</td>\n",
       "      <td>3/5</td>\n",
       "      <td>1/2</td>\n",
       "      <td>1/2</td>\n",
       "      <td>1/2</td>\n",
       "      <td>-1.44000000000000</td>\n",
       "      <td>-1.44000000000000</td>\n",
       "      <td>0</td>\n",
       "      <td>0.0</td>\n",
       "    </tr>\n",
       "    <tr>\n",
       "      <th>20</th>\n",
       "      <td>1</td>\n",
       "      <td>-2</td>\n",
       "      <td>2</td>\n",
       "      <td>0</td>\n",
       "      <td>1/10</td>\n",
       "      <td>3/10</td>\n",
       "      <td>2/5</td>\n",
       "      <td>7/10</td>\n",
       "      <td>3/5</td>\n",
       "      <td>1/2</td>\n",
       "      <td>1/10</td>\n",
       "      <td>1/2</td>\n",
       "      <td>1.36200000000000</td>\n",
       "      <td>1.36200000000000</td>\n",
       "      <td>0</td>\n",
       "      <td>0.0</td>\n",
       "    </tr>\n",
       "    <tr>\n",
       "      <th>21</th>\n",
       "      <td>1</td>\n",
       "      <td>-2</td>\n",
       "      <td>2</td>\n",
       "      <td>0</td>\n",
       "      <td>1/10</td>\n",
       "      <td>3/10</td>\n",
       "      <td>2/5</td>\n",
       "      <td>7/10</td>\n",
       "      <td>3/5</td>\n",
       "      <td>1/2</td>\n",
       "      <td>1/2</td>\n",
       "      <td>1/2</td>\n",
       "      <td>0.810000000000000</td>\n",
       "      <td>0.810000000000000</td>\n",
       "      <td>0</td>\n",
       "      <td>0.0</td>\n",
       "    </tr>\n",
       "    <tr>\n",
       "      <th>22</th>\n",
       "      <td>1</td>\n",
       "      <td>-2</td>\n",
       "      <td>2</td>\n",
       "      <td>3</td>\n",
       "      <td>1/10</td>\n",
       "      <td>3/10</td>\n",
       "      <td>2/5</td>\n",
       "      <td>7/10</td>\n",
       "      <td>3/5</td>\n",
       "      <td>1/2</td>\n",
       "      <td>1/10</td>\n",
       "      <td>1/2</td>\n",
       "      <td>-0.663000000000000</td>\n",
       "      <td>-0.663000000000000</td>\n",
       "      <td>0</td>\n",
       "      <td>0.0</td>\n",
       "    </tr>\n",
       "    <tr>\n",
       "      <th>23</th>\n",
       "      <td>1</td>\n",
       "      <td>-2</td>\n",
       "      <td>2</td>\n",
       "      <td>3</td>\n",
       "      <td>1/10</td>\n",
       "      <td>3/10</td>\n",
       "      <td>2/5</td>\n",
       "      <td>7/10</td>\n",
       "      <td>3/5</td>\n",
       "      <td>1/2</td>\n",
       "      <td>1/2</td>\n",
       "      <td>1/2</td>\n",
       "      <td>-0.315000000000000</td>\n",
       "      <td>-0.315000000000000</td>\n",
       "      <td>0</td>\n",
       "      <td>0.0</td>\n",
       "    </tr>\n",
       "    <tr>\n",
       "      <th>24</th>\n",
       "      <td>1</td>\n",
       "      <td>2</td>\n",
       "      <td>-1</td>\n",
       "      <td>0</td>\n",
       "      <td>1/10</td>\n",
       "      <td>3/10</td>\n",
       "      <td>2/5</td>\n",
       "      <td>7/10</td>\n",
       "      <td>3/5</td>\n",
       "      <td>1/2</td>\n",
       "      <td>1/10</td>\n",
       "      <td>1/2</td>\n",
       "      <td>0.237000000000000</td>\n",
       "      <td>0.237000000000000</td>\n",
       "      <td>0</td>\n",
       "      <td>0.0</td>\n",
       "    </tr>\n",
       "    <tr>\n",
       "      <th>25</th>\n",
       "      <td>1</td>\n",
       "      <td>2</td>\n",
       "      <td>-1</td>\n",
       "      <td>0</td>\n",
       "      <td>1/10</td>\n",
       "      <td>3/10</td>\n",
       "      <td>2/5</td>\n",
       "      <td>7/10</td>\n",
       "      <td>3/5</td>\n",
       "      <td>1/2</td>\n",
       "      <td>1/2</td>\n",
       "      <td>1/2</td>\n",
       "      <td>0.185000000000000</td>\n",
       "      <td>0.185000000000000</td>\n",
       "      <td>0</td>\n",
       "      <td>0.0</td>\n",
       "    </tr>\n",
       "    <tr>\n",
       "      <th>26</th>\n",
       "      <td>1</td>\n",
       "      <td>2</td>\n",
       "      <td>-1</td>\n",
       "      <td>3</td>\n",
       "      <td>1/10</td>\n",
       "      <td>3/10</td>\n",
       "      <td>2/5</td>\n",
       "      <td>7/10</td>\n",
       "      <td>3/5</td>\n",
       "      <td>1/2</td>\n",
       "      <td>1/10</td>\n",
       "      <td>1/2</td>\n",
       "      <td>0.912000000000000</td>\n",
       "      <td>0.912000000000000</td>\n",
       "      <td>0</td>\n",
       "      <td>0.0</td>\n",
       "    </tr>\n",
       "    <tr>\n",
       "      <th>27</th>\n",
       "      <td>1</td>\n",
       "      <td>2</td>\n",
       "      <td>-1</td>\n",
       "      <td>3</td>\n",
       "      <td>1/10</td>\n",
       "      <td>3/10</td>\n",
       "      <td>2/5</td>\n",
       "      <td>7/10</td>\n",
       "      <td>3/5</td>\n",
       "      <td>1/2</td>\n",
       "      <td>1/2</td>\n",
       "      <td>1/2</td>\n",
       "      <td>0.560000000000000</td>\n",
       "      <td>0.560000000000000</td>\n",
       "      <td>0</td>\n",
       "      <td>0.0</td>\n",
       "    </tr>\n",
       "    <tr>\n",
       "      <th>28</th>\n",
       "      <td>1</td>\n",
       "      <td>2</td>\n",
       "      <td>2</td>\n",
       "      <td>0</td>\n",
       "      <td>1/10</td>\n",
       "      <td>3/10</td>\n",
       "      <td>2/5</td>\n",
       "      <td>7/10</td>\n",
       "      <td>3/5</td>\n",
       "      <td>1/2</td>\n",
       "      <td>1/10</td>\n",
       "      <td>1/2</td>\n",
       "      <td>-0.438000000000000</td>\n",
       "      <td>-0.438000000000000</td>\n",
       "      <td>0</td>\n",
       "      <td>0.0</td>\n",
       "    </tr>\n",
       "    <tr>\n",
       "      <th>29</th>\n",
       "      <td>1</td>\n",
       "      <td>2</td>\n",
       "      <td>2</td>\n",
       "      <td>0</td>\n",
       "      <td>1/10</td>\n",
       "      <td>3/10</td>\n",
       "      <td>2/5</td>\n",
       "      <td>7/10</td>\n",
       "      <td>3/5</td>\n",
       "      <td>1/2</td>\n",
       "      <td>1/2</td>\n",
       "      <td>1/2</td>\n",
       "      <td>-0.190000000000000</td>\n",
       "      <td>-0.190000000000000</td>\n",
       "      <td>0</td>\n",
       "      <td>0.0</td>\n",
       "    </tr>\n",
       "    <tr>\n",
       "      <th>30</th>\n",
       "      <td>1</td>\n",
       "      <td>2</td>\n",
       "      <td>2</td>\n",
       "      <td>3</td>\n",
       "      <td>1/10</td>\n",
       "      <td>3/10</td>\n",
       "      <td>2/5</td>\n",
       "      <td>7/10</td>\n",
       "      <td>3/5</td>\n",
       "      <td>1/2</td>\n",
       "      <td>1/10</td>\n",
       "      <td>1/2</td>\n",
       "      <td>0.237000000000000</td>\n",
       "      <td>0.237000000000000</td>\n",
       "      <td>0</td>\n",
       "      <td>0.0</td>\n",
       "    </tr>\n",
       "    <tr>\n",
       "      <th>31</th>\n",
       "      <td>1</td>\n",
       "      <td>2</td>\n",
       "      <td>2</td>\n",
       "      <td>3</td>\n",
       "      <td>1/10</td>\n",
       "      <td>3/10</td>\n",
       "      <td>2/5</td>\n",
       "      <td>7/10</td>\n",
       "      <td>3/5</td>\n",
       "      <td>1/2</td>\n",
       "      <td>1/2</td>\n",
       "      <td>1/2</td>\n",
       "      <td>0.185000000000000</td>\n",
       "      <td>0.185000000000000</td>\n",
       "      <td>0</td>\n",
       "      <td>0.0</td>\n",
       "    </tr>\n",
       "  </tbody>\n",
       "</table>\n",
       "</div>"
      ]
     },
     "metadata": {},
     "output_type": "display_data"
    }
   ],
   "execution_count": 15
  },
  {
   "cell_type": "code",
   "source": [
    "import numpy as np\n",
    "\n",
    "print('The mean error between the rhs and the lhs is:', np.mean(df['diff_num']))"
   ],
   "metadata": {
    "collapsed": false,
    "ExecuteTime": {
     "end_time": "2024-05-03T15:56:11.153876Z",
     "start_time": "2024-05-03T15:56:11.148977Z"
    }
   },
   "id": "d39ebad478ba73fc",
   "outputs": [
    {
     "name": "stdout",
     "output_type": "stream",
     "text": [
      "The mean error between the rhs and the lhs is: 0.0\n"
     ]
    }
   ],
   "execution_count": 16
  }
 ],
 "metadata": {
  "kernelspec": {
   "display_name": "Python 3",
   "language": "python",
   "name": "python3"
  },
  "language_info": {
   "codemirror_mode": {
    "name": "ipython",
    "version": 2
   },
   "file_extension": ".py",
   "mimetype": "text/x-python",
   "name": "python",
   "nbconvert_exporter": "python",
   "pygments_lexer": "ipython2",
   "version": "2.7.6"
  }
 },
 "nbformat": 4,
 "nbformat_minor": 5
}
